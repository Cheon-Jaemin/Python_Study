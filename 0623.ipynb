{
 "cells": [
  {
   "cell_type": "code",
   "execution_count": 10,
   "id": "f78500c5-5164-4259-90fd-0b1551b4a940",
   "metadata": {},
   "outputs": [],
   "source": [
    "# 프로그램 = 변수 + 함수 "
   ]
  },
  {
   "cell_type": "code",
   "execution_count": 11,
   "id": "07753c0a-3c22-439a-bd1c-d6ca634047d2",
   "metadata": {},
   "outputs": [],
   "source": [
    "# 변수 : 데이터에 할당된 이름"
   ]
  },
  {
   "cell_type": "code",
   "execution_count": 12,
   "id": "f4317e22-fc1e-4426-8224-1392601bb7f2",
   "metadata": {},
   "outputs": [],
   "source": [
    "a = 3 # 앞으로 내가 a라고 하면 3 얘기하는거야 # 변수의 할당(assignment) = 변수의 정의/선언"
   ]
  },
  {
   "cell_type": "code",
   "execution_count": 13,
   "id": "4129666e-e52f-4b41-b4ef-7db61913f7a0",
   "metadata": {},
   "outputs": [],
   "source": [
    "# 그 변수에 할당된 값을 필요할 때 마다 참조해서 사용할 수 있다"
   ]
  },
  {
   "cell_type": "code",
   "execution_count": 14,
   "id": "773e68c2-a044-4770-a365-a2df8360826a",
   "metadata": {},
   "outputs": [
    {
     "data": {
      "text/plain": [
       "3"
      ]
     },
     "execution_count": 14,
     "metadata": {},
     "output_type": "execute_result"
    }
   ],
   "source": [
    "a"
   ]
  },
  {
   "cell_type": "code",
   "execution_count": 16,
   "id": "f6eb2839-d750-4407-87ed-0e8c03104200",
   "metadata": {},
   "outputs": [
    {
     "data": {
      "text/plain": [
       "103"
      ]
     },
     "execution_count": 16,
     "metadata": {},
     "output_type": "execute_result"
    }
   ],
   "source": [
    "a + 100"
   ]
  },
  {
   "cell_type": "code",
   "execution_count": 17,
   "id": "c64fd8b6-2800-435c-a9db-201365ecda89",
   "metadata": {},
   "outputs": [],
   "source": [
    "# 데이터 : 정수, 실수, 문자"
   ]
  },
  {
   "cell_type": "code",
   "execution_count": 18,
   "id": "0c496de4-1cbf-471c-a70c-2f738dd4adaa",
   "metadata": {},
   "outputs": [],
   "source": [
    "a = 100"
   ]
  },
  {
   "cell_type": "code",
   "execution_count": 19,
   "id": "8646fa49-5bc6-4c8d-96c1-0a7d2bdde0e6",
   "metadata": {},
   "outputs": [
    {
     "data": {
      "text/plain": [
       "int"
      ]
     },
     "execution_count": 19,
     "metadata": {},
     "output_type": "execute_result"
    }
   ],
   "source": [
    "type(a)"
   ]
  },
  {
   "cell_type": "code",
   "execution_count": 20,
   "id": "1e874862-60e5-4ed9-a807-46f9866b0db2",
   "metadata": {},
   "outputs": [
    {
     "data": {
      "text/plain": [
       "float"
      ]
     },
     "execution_count": 20,
     "metadata": {},
     "output_type": "execute_result"
    }
   ],
   "source": [
    "type(3.14)"
   ]
  },
  {
   "cell_type": "code",
   "execution_count": 21,
   "id": "713e5079-fc66-4e8a-ac62-15f0a9a66281",
   "metadata": {},
   "outputs": [],
   "source": [
    "b = 'Cheonan'"
   ]
  },
  {
   "cell_type": "code",
   "execution_count": 22,
   "id": "e439808c-ded8-4ac1-a71e-8949f0971616",
   "metadata": {},
   "outputs": [
    {
     "data": {
      "text/plain": [
       "str"
      ]
     },
     "execution_count": 22,
     "metadata": {},
     "output_type": "execute_result"
    }
   ],
   "source": [
    "type(b)"
   ]
  },
  {
   "cell_type": "code",
   "execution_count": 23,
   "id": "958821f2-c874-4604-97dd-2d17127590f0",
   "metadata": {},
   "outputs": [],
   "source": [
    "# 3가지 타입의 정보 \n",
    "# 정수 (int, integer)\n",
    "# 실수 (float, floating point 부동소수점)\n",
    "# 문자열 (str, string)"
   ]
  },
  {
   "cell_type": "code",
   "execution_count": 24,
   "id": "0e5758f1-86f4-44d3-b281-a651bd4d15e4",
   "metadata": {},
   "outputs": [],
   "source": [
    "# 데이터와 연산은 한 몸이다."
   ]
  },
  {
   "cell_type": "code",
   "execution_count": 25,
   "id": "794fdb3d-1f23-431b-8abb-42f51bb7e7e8",
   "metadata": {},
   "outputs": [],
   "source": [
    "# 숫자 데이터의 연산 (산술연산 [+ - * / ], 비교연산 [> < >= <= == !=])"
   ]
  },
  {
   "cell_type": "code",
   "execution_count": 26,
   "id": "7b2d21fa-9284-4a8f-92a5-255d1d39559b",
   "metadata": {},
   "outputs": [],
   "source": [
    "a = 10 \n",
    "b = 4 "
   ]
  },
  {
   "cell_type": "code",
   "execution_count": 27,
   "id": "ba028b4b-5cf3-4394-8455-f3e2feab9aa2",
   "metadata": {},
   "outputs": [
    {
     "data": {
      "text/plain": [
       "14"
      ]
     },
     "execution_count": 27,
     "metadata": {},
     "output_type": "execute_result"
    }
   ],
   "source": [
    "a + b"
   ]
  },
  {
   "cell_type": "code",
   "execution_count": 28,
   "id": "f56c712a-9744-455d-a1fd-c9a13871bee6",
   "metadata": {},
   "outputs": [
    {
     "data": {
      "text/plain": [
       "6"
      ]
     },
     "execution_count": 28,
     "metadata": {},
     "output_type": "execute_result"
    }
   ],
   "source": [
    "a - b"
   ]
  },
  {
   "cell_type": "code",
   "execution_count": 31,
   "id": "2c279ddd-afad-4752-acd7-c7102c18bca3",
   "metadata": {},
   "outputs": [],
   "source": [
    "c = a * b"
   ]
  },
  {
   "cell_type": "code",
   "execution_count": 35,
   "id": "24f86f76-8c60-49a9-8e28-a21342e15754",
   "metadata": {},
   "outputs": [],
   "source": [
    "d = a / b"
   ]
  },
  {
   "cell_type": "code",
   "execution_count": 36,
   "id": "9af28566-e3a8-4bd7-851a-e57e7499656a",
   "metadata": {},
   "outputs": [
    {
     "data": {
      "text/plain": [
       "40"
      ]
     },
     "execution_count": 36,
     "metadata": {},
     "output_type": "execute_result"
    }
   ],
   "source": [
    "c"
   ]
  },
  {
   "cell_type": "code",
   "execution_count": 37,
   "id": "64409bfe-d615-4167-8b8c-4a4906944906",
   "metadata": {},
   "outputs": [
    {
     "data": {
      "text/plain": [
       "2.5"
      ]
     },
     "execution_count": 37,
     "metadata": {},
     "output_type": "execute_result"
    }
   ],
   "source": [
    "d"
   ]
  },
  {
   "cell_type": "code",
   "execution_count": 40,
   "id": "528a0fd0-53b6-4924-8def-b95fb740222d",
   "metadata": {},
   "outputs": [],
   "source": [
    "# 비교연산의 결과는 참(True) 또는 거짓(False)이 됩니다. \n",
    "# 산술연산의 결과는 숫자가 됩니다"
   ]
  },
  {
   "cell_type": "code",
   "execution_count": 41,
   "id": "5ef488c2-6e34-4ccc-8884-4dac3db4f43c",
   "metadata": {},
   "outputs": [
    {
     "data": {
      "text/plain": [
       "True"
      ]
     },
     "execution_count": 41,
     "metadata": {},
     "output_type": "execute_result"
    }
   ],
   "source": [
    "a > b # 10 > 4 : 참(True)"
   ]
  },
  {
   "cell_type": "code",
   "execution_count": 43,
   "id": "fdc0b4ed-2ac2-4002-87db-40c9130817ea",
   "metadata": {},
   "outputs": [],
   "source": [
    "c = a < b"
   ]
  },
  {
   "cell_type": "code",
   "execution_count": 44,
   "id": "4b69f8ee-df9d-4729-918f-ef533db02ef0",
   "metadata": {},
   "outputs": [
    {
     "data": {
      "text/plain": [
       "False"
      ]
     },
     "execution_count": 44,
     "metadata": {},
     "output_type": "execute_result"
    }
   ],
   "source": [
    "c"
   ]
  },
  {
   "cell_type": "code",
   "execution_count": 46,
   "id": "6cc81751-cb8d-4526-ae4f-94161fea2606",
   "metadata": {},
   "outputs": [],
   "source": [
    "c = a == b"
   ]
  },
  {
   "cell_type": "code",
   "execution_count": 47,
   "id": "e395383d-3469-4d86-b45e-fecfc05f0d82",
   "metadata": {},
   "outputs": [
    {
     "data": {
      "text/plain": [
       "False"
      ]
     },
     "execution_count": 47,
     "metadata": {},
     "output_type": "execute_result"
    }
   ],
   "source": [
    "c"
   ]
  },
  {
   "cell_type": "code",
   "execution_count": 48,
   "id": "f562059e-5ae3-422c-ba7f-81a9a9a5b0a4",
   "metadata": {},
   "outputs": [],
   "source": [
    "# 기본적인 연산, 기능들은 파이썬이 제공하고 있다 : 내장함수(built-in)\n",
    "# 입출력함수 : input(), print()"
   ]
  },
  {
   "cell_type": "code",
   "execution_count": 49,
   "id": "8826e423-8f50-44ca-abff-7aa54bb1a22d",
   "metadata": {},
   "outputs": [
    {
     "name": "stdout",
     "output_type": "stream",
     "text": [
      "100\n"
     ]
    }
   ],
   "source": [
    "a = 100 \n",
    "print(a) # print(a) # a값을 화면에 출력하시오 "
   ]
  },
  {
   "cell_type": "code",
   "execution_count": 55,
   "id": "569a45ab-da0a-44a8-a0a4-29dedbbf7f45",
   "metadata": {},
   "outputs": [
    {
     "name": "stdout",
     "output_type": "stream",
     "text": [
      "100 Hello\n"
     ]
    }
   ],
   "source": [
    "a = 100 \n",
    "b = 'Hello'\n",
    "print(a, b)"
   ]
  },
  {
   "cell_type": "code",
   "execution_count": 56,
   "id": "615f264d-ef32-4495-9bab-dfb7b4400ed0",
   "metadata": {},
   "outputs": [
    {
     "name": "stdout",
     "output_type": "stream",
     "text": [
      "2 + 3 = 5\n"
     ]
    }
   ],
   "source": [
    "a = 2\n",
    "b = 3\n",
    "# 2 + 3 = 5\n",
    "print(a, '+', b, '=', a + b)"
   ]
  },
  {
   "cell_type": "code",
   "execution_count": 57,
   "id": "1d7fe860-594b-4e1f-8bf3-1319773adb9c",
   "metadata": {},
   "outputs": [
    {
     "name": "stdout",
     "output_type": "stream",
     "text": [
      "10 + 30 = 40\n"
     ]
    }
   ],
   "source": [
    "a = 10\n",
    "b = 30\n",
    "# 10 + 30 = 40\n",
    "print(a, '+', b, '=', a + b)"
   ]
  },
  {
   "cell_type": "code",
   "execution_count": 58,
   "id": "bf8823a1-f1a5-4a59-8b01-21da0cb04850",
   "metadata": {},
   "outputs": [
    {
     "name": "stdout",
     "output_type": "stream",
     "text": [
      "1 + 2 = 3\n",
      "1 - 2 = -1\n",
      "1 * 2 = 2\n",
      "1 / 2 = 0.5\n"
     ]
    }
   ],
   "source": [
    "a = 1\n",
    "b = 2\n",
    "print(a, '+', b, '=', a + b)\n",
    "print(a, '-', b, '=', a - b)\n",
    "print(a, '*', b, '=', a * b)\n",
    "print(a, '/', b, '=', a / b)"
   ]
  },
  {
   "cell_type": "code",
   "execution_count": 60,
   "id": "8bd5eafc-025e-4243-85bf-e242b6ac138b",
   "metadata": {},
   "outputs": [
    {
     "name": "stdin",
     "output_type": "stream",
     "text": [
      " 123\n"
     ]
    }
   ],
   "source": [
    "a = input()"
   ]
  },
  {
   "cell_type": "code",
   "execution_count": 61,
   "id": "4529ab5e-56c4-4a7a-b4c7-dd24333722ba",
   "metadata": {},
   "outputs": [
    {
     "name": "stdout",
     "output_type": "stream",
     "text": [
      "123\n"
     ]
    }
   ],
   "source": [
    "print(a)"
   ]
  },
  {
   "cell_type": "code",
   "execution_count": 62,
   "id": "30f5bb6b-158d-4ee6-9853-f7cc5a899228",
   "metadata": {},
   "outputs": [
    {
     "name": "stdin",
     "output_type": "stream",
     "text": [
      " 345\n"
     ]
    }
   ],
   "source": [
    "b = input()"
   ]
  },
  {
   "cell_type": "code",
   "execution_count": 63,
   "id": "a5e21546-e6ae-4b45-801c-0141dd93250d",
   "metadata": {},
   "outputs": [
    {
     "name": "stdout",
     "output_type": "stream",
     "text": [
      "345\n"
     ]
    }
   ],
   "source": [
    "print(b)"
   ]
  },
  {
   "cell_type": "code",
   "execution_count": 64,
   "id": "30f6b128-4955-4ad3-89d3-b342c67374dc",
   "metadata": {},
   "outputs": [
    {
     "ename": "TypeError",
     "evalue": "can only concatenate str (not \"int\") to str",
     "output_type": "error",
     "traceback": [
      "\u001b[31m---------------------------------------------------------------------------\u001b[39m",
      "\u001b[31mTypeError\u001b[39m                                 Traceback (most recent call last)",
      "\u001b[36mCell\u001b[39m\u001b[36m \u001b[39m\u001b[32mIn[64]\u001b[39m\u001b[32m, line 1\u001b[39m\n\u001b[32m----> \u001b[39m\u001b[32m1\u001b[39m \u001b[38;5;28mprint\u001b[39m(\u001b[43mb\u001b[49m\u001b[43m \u001b[49m\u001b[43m+\u001b[49m\u001b[43m \u001b[49m\u001b[32;43m100\u001b[39;49m)\n",
      "\u001b[31mTypeError\u001b[39m: can only concatenate str (not \"int\") to str"
     ]
    }
   ],
   "source": [
    "print(b + 100)"
   ]
  },
  {
   "cell_type": "code",
   "execution_count": 65,
   "id": "a3060e44-86c0-4de0-bbef-8f77d6b67798",
   "metadata": {},
   "outputs": [
    {
     "data": {
      "text/plain": [
       "str"
      ]
     },
     "execution_count": 65,
     "metadata": {},
     "output_type": "execute_result"
    }
   ],
   "source": [
    "type(b)"
   ]
  },
  {
   "cell_type": "code",
   "execution_count": 67,
   "id": "7e3a0903-00b0-4fa4-ac14-5154c0d8fcfc",
   "metadata": {},
   "outputs": [],
   "source": [
    "b = int('123')"
   ]
  },
  {
   "cell_type": "code",
   "execution_count": 68,
   "id": "ab172a5a-b4e7-47a7-9254-4d5ae1d5b81c",
   "metadata": {},
   "outputs": [
    {
     "name": "stdout",
     "output_type": "stream",
     "text": [
      "123\n"
     ]
    }
   ],
   "source": [
    "print(b)"
   ]
  },
  {
   "cell_type": "code",
   "execution_count": 69,
   "id": "7a929cd0-0bea-4c10-bb4d-f13ec72bcbde",
   "metadata": {},
   "outputs": [
    {
     "data": {
      "text/plain": [
       "int"
      ]
     },
     "execution_count": 69,
     "metadata": {},
     "output_type": "execute_result"
    }
   ],
   "source": [
    "type(b)"
   ]
  },
  {
   "cell_type": "code",
   "execution_count": 70,
   "id": "639a6797-5137-4528-aa78-996d3ceee8f2",
   "metadata": {},
   "outputs": [],
   "source": [
    "a = 123\n",
    "b = str(a)"
   ]
  },
  {
   "cell_type": "code",
   "execution_count": 71,
   "id": "a2095ab7-5e46-49bd-9634-d785886ee2f6",
   "metadata": {},
   "outputs": [
    {
     "name": "stdout",
     "output_type": "stream",
     "text": [
      "123\n"
     ]
    }
   ],
   "source": [
    "print(b)"
   ]
  },
  {
   "cell_type": "code",
   "execution_count": 72,
   "id": "a6b46ba9-8de3-4f76-af55-e5078155faac",
   "metadata": {},
   "outputs": [
    {
     "data": {
      "text/plain": [
       "str"
      ]
     },
     "execution_count": 72,
     "metadata": {},
     "output_type": "execute_result"
    }
   ],
   "source": [
    "type(b)"
   ]
  },
  {
   "cell_type": "code",
   "execution_count": 73,
   "id": "6322cf97-57ce-4b70-a156-fcc24eea4c76",
   "metadata": {},
   "outputs": [],
   "source": [
    "# 실습 : 키보드로 2개 정수값을 입력받은 후에 \n",
    "# 그 2개 값의 덧셈, 뺄셈, 곱셈, 나눗셈 결과를 출력하는 코드를 보이시오"
   ]
  },
  {
   "cell_type": "code",
   "execution_count": 78,
   "id": "64198a3a-c805-4aaf-94cf-85750d9141f0",
   "metadata": {},
   "outputs": [
    {
     "name": "stdin",
     "output_type": "stream",
     "text": [
      " 5\n",
      " 5\n"
     ]
    },
    {
     "name": "stdout",
     "output_type": "stream",
     "text": [
      "5 + 5 = 10\n",
      "5 - 5 = 0\n",
      "5 * 5 = 25\n",
      "5 / 5 = 1.0\n"
     ]
    }
   ],
   "source": [
    "a = input()\n",
    "b = int(a) #첫번째 입력한 정수값 > b 변수에 저장되어 있다\n",
    "c = input()\n",
    "d = int(c) # 두번째 > d 변수에 저장되어 있다\n",
    "print(b, '+', d, '=', b + d)\n",
    "print(b, '-', d, '=', b - d)\n",
    "print(b, '*', d, '=', b * d)\n",
    "print(b, '/', d, '=', b / d)"
   ]
  },
  {
   "cell_type": "code",
   "execution_count": 79,
   "id": "d096af8c-948d-4f3c-a750-53847c617d51",
   "metadata": {},
   "outputs": [
    {
     "name": "stdout",
     "output_type": "stream",
     "text": [
      "1\n",
      "2\n",
      "3\n"
     ]
    }
   ],
   "source": [
    "# if : 어떤 명령문(들)을 \"경우에 따라서\" 실행되게 또는 실행되지않게 만들어주는 키워드\n",
    "# if문은 들여쓰기 되어있는 명령문들을 실행한다.\n",
    "\n",
    "a = 11\n",
    "print(1)\n",
    "if (a > 10) : \n",
    "    print(2)\n",
    "print(3)"
   ]
  },
  {
   "cell_type": "code",
   "execution_count": 80,
   "id": "c78329c9-98d8-4e08-aa46-14a421e7fc98",
   "metadata": {},
   "outputs": [
    {
     "name": "stdout",
     "output_type": "stream",
     "text": [
      "1\n",
      "3\n"
     ]
    }
   ],
   "source": [
    "a = 9\n",
    "print(1)\n",
    "if (a > 10) : \n",
    "    print(2)\n",
    "print(3)"
   ]
  },
  {
   "cell_type": "code",
   "execution_count": 110,
   "id": "5ef94980-dc1f-4370-927c-f3d2c56a160b",
   "metadata": {},
   "outputs": [
    {
     "name": "stdin",
     "output_type": "stream",
     "text": [
      " 3\n"
     ]
    },
    {
     "name": "stdout",
     "output_type": "stream",
     "text": [
      "odd\n"
     ]
    }
   ],
   "source": [
    "# 키보드로 정수값을 입력받은 후에 \n",
    "# 그 값이 짝수이면 화면에 \"even\" 출력하고,\n",
    "# 그렇지 않으면(else), 화면에 \"odd\" 출력해줘~★\n",
    "\n",
    "a = int(input())\n",
    "if (a % 2 == 0) :\n",
    "    print('even')\n",
    "else :\n",
    "    print('odd')"
   ]
  },
  {
   "cell_type": "code",
   "execution_count": 96,
   "id": "f16b246e-9d95-4bb9-a9c6-325f6726288f",
   "metadata": {},
   "outputs": [
    {
     "data": {
      "text/plain": [
       "3"
      ]
     },
     "execution_count": 96,
     "metadata": {},
     "output_type": "execute_result"
    }
   ],
   "source": [
    "# 몫연산 (//), 나머지연산 (%)\n",
    "10 // 3"
   ]
  },
  {
   "cell_type": "code",
   "execution_count": 97,
   "id": "69ea7ca2-1419-4b03-9c93-7cb8a4696353",
   "metadata": {},
   "outputs": [
    {
     "data": {
      "text/plain": [
       "1"
      ]
     },
     "execution_count": 97,
     "metadata": {},
     "output_type": "execute_result"
    }
   ],
   "source": [
    "10 % 3"
   ]
  },
  {
   "cell_type": "code",
   "execution_count": 98,
   "id": "4596c61d-6bf7-47b8-b42d-2c03f187a3fd",
   "metadata": {},
   "outputs": [
    {
     "name": "stdout",
     "output_type": "stream",
     "text": [
      "25 = 6 * 4 + 1\n"
     ]
    }
   ],
   "source": [
    "a = 25\n",
    "b = 6\n",
    "\n",
    "# 15 = 4 * 몫 + 나머지로 출력하시오\n",
    "\n",
    "print(a, '=', b, '*', a // b, '+', a % b)"
   ]
  },
  {
   "cell_type": "code",
   "execution_count": 117,
   "id": "202a58bb-ff4c-4d83-a06d-1f5bd5c7cc00",
   "metadata": {},
   "outputs": [
    {
     "name": "stdin",
     "output_type": "stream",
     "text": [
      " 5\n"
     ]
    },
    {
     "name": "stdout",
     "output_type": "stream",
     "text": [
      "best\n"
     ]
    }
   ],
   "source": [
    "# 키보드로 입력된 정수에 대하여\n",
    "# 3으로 나눈 나머지 = 0 : good 출력하고,\n",
    "# 3으로 나눈 나머지 = 1 : better 출력하고,\n",
    "# 3으로 나눈 나머지 = 2 : best 출력해라~ \n",
    "\n",
    "a = int(input())\n",
    "b = a % 3\n",
    "if (b == 0) :\n",
    "    print('good')\n",
    "elif (b == 1) :\n",
    "    print('better')\n",
    "else :\n",
    "    print('best')"
   ]
  },
  {
   "cell_type": "code",
   "execution_count": 149,
   "id": "6a0fa0fd-14d1-45fc-b85b-c13ac18ac006",
   "metadata": {},
   "outputs": [
    {
     "name": "stdin",
     "output_type": "stream",
     "text": [
      " 77\n"
     ]
    },
    {
     "name": "stdout",
     "output_type": "stream",
     "text": [
      "C\n"
     ]
    }
   ],
   "source": [
    "# 키보드로 입력된 정수에 대하여 성적 프로그램 만들기(elif 활용)\n",
    "# A : 90~\n",
    "# B : 80~89\n",
    "# C : 70~79\n",
    "# D : 60~69\n",
    "# F : ~59\n",
    "\n",
    "a = int(input())\n",
    "if(a >= 90) :\n",
    "    print('A')\n",
    "elif(80 <= a < 90) :\n",
    "    print('B')\n",
    "elif(70 <= a < 80) :\n",
    "    print('C')\n",
    "elif(60 <= a < 70) :\n",
    "    print('D')\n",
    "else :\n",
    "    print('F')"
   ]
  },
  {
   "cell_type": "code",
   "execution_count": 147,
   "id": "76f17298-043e-4666-a37d-5e24c7390466",
   "metadata": {},
   "outputs": [
    {
     "name": "stdin",
     "output_type": "stream",
     "text": [
      " 77\n"
     ]
    },
    {
     "name": "stdout",
     "output_type": "stream",
     "text": [
      "C\n"
     ]
    }
   ],
   "source": [
    "# 키보드로 입력된 정수에 대하여 성적 프로그램 만들기(else 와 if 로만 만들기)\n",
    "# A : 90~\n",
    "# B : 80~89\n",
    "# C : 70~79\n",
    "# D : 60~69\n",
    "# F : ~59\n",
    "\n",
    "a = int(input())\n",
    "if(a >= 90) :\n",
    "    print('A')\n",
    "else :\n",
    "    if(80 <= a < 90) :\n",
    "        print('B')\n",
    "    else :\n",
    "        if(70 <= a < 80) :\n",
    "            print('C')\n",
    "        else :\n",
    "            if(60 <= a < 70) :\n",
    "                print('D')\n",
    "            else :\n",
    "                print('F')"
   ]
  },
  {
   "cell_type": "code",
   "execution_count": 148,
   "id": "d356b7c9-c0d7-4e4f-bdbd-dc2dfe3b0862",
   "metadata": {},
   "outputs": [
    {
     "name": "stdin",
     "output_type": "stream",
     "text": [
      " 77\n"
     ]
    },
    {
     "name": "stdout",
     "output_type": "stream",
     "text": [
      "C\n"
     ]
    }
   ],
   "source": [
    "# 키보드로 입력된 정수에 대하여 성적 프로그램 만들기(else 와 if 로만 만들기 70 기준 2개씩 자르기)\n",
    "# A : 90~\n",
    "# B : 80~89\n",
    "# C : 70~79\n",
    "# D : 60~69\n",
    "# F : ~59\n",
    "\n",
    "a = int(input())\n",
    "if(a >= 90) :\n",
    "    print('A')\n",
    "else :\n",
    "    if(70 <= a) :\n",
    "        if(a >= 80) :\n",
    "            print('B')\n",
    "        else :\n",
    "            print('C')\n",
    "    else :\n",
    "        if(60 <= a) :\n",
    "            print('D')\n",
    "        else :\n",
    "            print('F')"
   ]
  },
  {
   "cell_type": "code",
   "execution_count": 181,
   "id": "f95616c2-efe5-4fc5-b390-8bcefe218b4f",
   "metadata": {},
   "outputs": [
    {
     "name": "stdin",
     "output_type": "stream",
     "text": [
      " 77\n"
     ]
    },
    {
     "name": "stdout",
     "output_type": "stream",
     "text": [
      "C\n"
     ]
    }
   ],
   "source": [
    "# 키보드로 입력된 정수에 대하여 성적 프로그램 만들기(else 와 if 로만 만들기 알파벳 섞기)\n",
    "# A : 90~\n",
    "# B : 80~89\n",
    "# C : 70~79\n",
    "# D : 60~69\n",
    "# F : ~59\n",
    "\n",
    "a = int(input())\n",
    "if(a >= 90) :\n",
    "    print('A')\n",
    "else :\n",
    "    if(a >= 80) :\n",
    "        print('B')\n",
    "    else :\n",
    "        if(a < 60) :\n",
    "            print('F')\n",
    "        else :\n",
    "            if(a >= 70) : \n",
    "                print('C')\n",
    "            else :\n",
    "                print('D')"
   ]
  },
  {
   "cell_type": "code",
   "execution_count": 208,
   "id": "970dc7b6-d40f-4326-ac85-4d867f0eb569",
   "metadata": {},
   "outputs": [
    {
     "name": "stdin",
     "output_type": "stream",
     "text": [
      " 77\n"
     ]
    },
    {
     "name": "stdout",
     "output_type": "stream",
     "text": [
      "C\n"
     ]
    }
   ],
   "source": [
    "# 키보드로 입력된 정수에 대하여 성적 프로그램 만들기(else 와 if 로만 만들기 알파벳 섞기 + 시작 알파벳 바꾸기)\n",
    "# A : 90~\n",
    "# B : 80~89\n",
    "# C : 70~79\n",
    "# D : 60~69\n",
    "# F : ~59\n",
    "\n",
    "a = int(input())\n",
    "if(90 > a >= 80) :\n",
    "    print('B')\n",
    "else :\n",
    "    if(a < 60) :\n",
    "        print('F')\n",
    "    else :\n",
    "        if(a >= 90) :\n",
    "            print('A')\n",
    "        else :\n",
    "            if(a >= 70) : \n",
    "                print('C')\n",
    "            else :\n",
    "                print('D')"
   ]
  },
  {
   "cell_type": "code",
   "execution_count": null,
   "id": "df6d112e-bc0a-4462-ab82-6519d6e530fb",
   "metadata": {},
   "outputs": [],
   "source": []
  }
 ],
 "metadata": {
  "kernelspec": {
   "display_name": "Python 3 (ipykernel)",
   "language": "python",
   "name": "python3"
  },
  "language_info": {
   "codemirror_mode": {
    "name": "ipython",
    "version": 3
   },
   "file_extension": ".py",
   "mimetype": "text/x-python",
   "name": "python",
   "nbconvert_exporter": "python",
   "pygments_lexer": "ipython3",
   "version": "3.13.5"
  }
 },
 "nbformat": 4,
 "nbformat_minor": 5
}
