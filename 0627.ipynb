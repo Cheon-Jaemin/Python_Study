{
 "cells": [
  {
   "cell_type": "code",
   "execution_count": 1,
   "id": "3612c4f8-e276-4e57-b8c8-e791116afc48",
   "metadata": {},
   "outputs": [],
   "source": [
    "def f(x) : \n",
    "    y = (2 * x) + 1\n",
    "    return y"
   ]
  },
  {
   "cell_type": "code",
   "execution_count": 3,
   "id": "c8be5579-0261-456a-b759-f7aec1d0b724",
   "metadata": {},
   "outputs": [
    {
     "name": "stdout",
     "output_type": "stream",
     "text": [
      "result : 8\n"
     ]
    }
   ],
   "source": [
    "a = f(1)\n",
    "b = f(2)\n",
    "c = a + b\n",
    "print('result :', c)"
   ]
  },
  {
   "cell_type": "code",
   "execution_count": 8,
   "id": "ff92d34f-a501-4d2e-8076-085c7a17c2ae",
   "metadata": {},
   "outputs": [],
   "source": [
    "def f (a, b, c) : #positional argument\n",
    "    # 매개변수 = 인자 a = 1, b = 2, c = 3 상태에서 함수가 실행된다  \n",
    "    print(a, b, c)\n",
    "    return"
   ]
  },
  {
   "cell_type": "code",
   "execution_count": 13,
   "id": "c7debb24-78c7-4089-a261-fdb9e8f5a3e8",
   "metadata": {},
   "outputs": [
    {
     "ename": "TypeError",
     "evalue": "f() takes 3 positional arguments but 4 were given",
     "output_type": "error",
     "traceback": [
      "\u001b[31m---------------------------------------------------------------------------\u001b[39m",
      "\u001b[31mTypeError\u001b[39m                                 Traceback (most recent call last)",
      "\u001b[36mCell\u001b[39m\u001b[36m \u001b[39m\u001b[32mIn[13]\u001b[39m\u001b[32m, line 1\u001b[39m\n\u001b[32m----> \u001b[39m\u001b[32m1\u001b[39m \u001b[43mf\u001b[49m\u001b[43m(\u001b[49m\u001b[32;43m5\u001b[39;49m\u001b[43m,\u001b[49m\u001b[43m \u001b[49m\u001b[32;43m4\u001b[39;49m\u001b[43m,\u001b[49m\u001b[43m \u001b[49m\u001b[32;43m3\u001b[39;49m\u001b[43m,\u001b[49m\u001b[43m \u001b[49m\u001b[32;43m2\u001b[39;49m\u001b[43m)\u001b[49m \n",
      "\u001b[31mTypeError\u001b[39m: f() takes 3 positional arguments but 4 were given"
     ]
    }
   ],
   "source": [
    "f(5, 4, 3, 2) "
   ]
  },
  {
   "cell_type": "code",
   "execution_count": 14,
   "id": "93f6e631-1a80-4761-a2ea-f2a5c6a43669",
   "metadata": {},
   "outputs": [],
   "source": [
    "# 인자의 디폴트 값을 설정할 수 있다. (중요한 의미)"
   ]
  },
  {
   "cell_type": "code",
   "execution_count": 22,
   "id": "39d5602a-2503-4ace-a4d2-24211442d823",
   "metadata": {},
   "outputs": [],
   "source": [
    "def f (a, b, c = 100) : # keyword argument\n",
    "    print(a, b, c)\n",
    "    return"
   ]
  },
  {
   "cell_type": "code",
   "execution_count": 20,
   "id": "60f39304-8ff5-470d-994f-13b795a16345",
   "metadata": {},
   "outputs": [
    {
     "name": "stdout",
     "output_type": "stream",
     "text": [
      "1 2 3\n",
      "1 2 3\n"
     ]
    }
   ],
   "source": [
    "# 호출할 때 두가지 방식 : 위치인자, 키워드인자\n",
    "f(1, 2, 3) # 위치인자\n",
    "f(a = 1, b = 2, c =3) # 키워드인자 (눈에 보이게 설정가능) 디폴트랑 연관돼서 사용됨 "
   ]
  },
  {
   "cell_type": "code",
   "execution_count": 21,
   "id": "46e3eb11-9e5f-4706-94e9-b0b273442993",
   "metadata": {},
   "outputs": [
    {
     "name": "stdout",
     "output_type": "stream",
     "text": [
      "1 2 3\n"
     ]
    }
   ],
   "source": [
    "f(c = 3, a = 1, b =2)"
   ]
  },
  {
   "cell_type": "code",
   "execution_count": 28,
   "id": "467b63ce-8445-4fae-99b1-142b6885a342",
   "metadata": {},
   "outputs": [],
   "source": [
    "def f (a, b, c = 100, d =10, e = 'Hello', f = 3.14) : # 디폴트 인자\n",
    "    print(a, b, c, d, e, f)\n",
    "    return"
   ]
  },
  {
   "cell_type": "code",
   "execution_count": 32,
   "id": "f17d4d5a-a7eb-444b-8470-9a8ff52c425d",
   "metadata": {},
   "outputs": [
    {
     "name": "stdout",
     "output_type": "stream",
     "text": [
      "1 10 10000 10 Hi 3.14\n"
     ]
    }
   ],
   "source": [
    "f(1, 10, e = 'Hi', c = 10000) # 키워드 인자의 진정한 효과는 디폴트 인자와 사용할 때 발휘된다."
   ]
  },
  {
   "cell_type": "markdown",
   "id": "5bd3a418-ab46-459a-82e8-95cf019fc65d",
   "metadata": {},
   "source": [
    "<H1> 나의 새로운 프로젝트</H1>"
   ]
  },
  {
   "cell_type": "markdown",
   "id": "2dd116ad-689e-4648-99a0-680f1026ee7e",
   "metadata": {},
   "source": [
    "<h2> 오늘 공부할 내용 </h2>\n",
    "<ul>\n",
    "<li> 인자의 3가지 타입 </li>\n",
    "<li> 스크립트와 모듈 </li>\n",
    "<li> 객체에 대한 개요 </li>\n",
    "</ul>"
   ]
  },
  {
   "cell_type": "code",
   "execution_count": 57,
   "id": "bc04b191-1539-4dcc-837c-53b2de013f93",
   "metadata": {},
   "outputs": [
    {
     "data": {
      "text/plain": [
       "'C:\\\\pydev\\\\Scripts'"
      ]
     },
     "execution_count": 57,
     "metadata": {},
     "output_type": "execute_result"
    }
   ],
   "source": [
    "%pwd"
   ]
  },
  {
   "cell_type": "code",
   "execution_count": 14,
   "id": "129c2246-f37a-4710-83bf-e9069489e84f",
   "metadata": {},
   "outputs": [
    {
     "name": "stdout",
     "output_type": "stream",
     "text": [
      " C 드라이브의 볼륨에는 이름이 없습니다.\n",
      " 볼륨 일련 번호: 3EE1-2981\n",
      "\n",
      " C:\\pydev\\Scripts 디렉터리\n",
      "\n",
      "2025-06-27  오후 12:18               515 mycode.py\n",
      "2025-06-23  오전 11:48            25,736 pywin32_postinstall.py\n",
      "2025-06-23  오전 11:48             3,847 pywin32_testall.py\n",
      "               3개 파일              30,098 바이트\n",
      "               0개 디렉터리  443,383,152,640 바이트 남음\n"
     ]
    }
   ],
   "source": [
    "%ls *.py"
   ]
  },
  {
   "cell_type": "code",
   "execution_count": 15,
   "id": "6d6c2f63-2711-4b01-9a9e-b5260fc8eab1",
   "metadata": {},
   "outputs": [],
   "source": [
    "import mycode as my "
   ]
  },
  {
   "cell_type": "code",
   "execution_count": 16,
   "id": "616ee829-8de9-47db-ad79-31c9179ce943",
   "metadata": {},
   "outputs": [
    {
     "data": {
      "text/plain": [
       "['In',\n",
       " 'Out',\n",
       " '_',\n",
       " '_11',\n",
       " '_12',\n",
       " '_13',\n",
       " '_3',\n",
       " '_4',\n",
       " '_5',\n",
       " '_6',\n",
       " '_9',\n",
       " '__',\n",
       " '___',\n",
       " '__builtin__',\n",
       " '__builtins__',\n",
       " '__doc__',\n",
       " '__loader__',\n",
       " '__name__',\n",
       " '__package__',\n",
       " '__session__',\n",
       " '__spec__',\n",
       " '_dh',\n",
       " '_exit_code',\n",
       " '_i',\n",
       " '_i1',\n",
       " '_i10',\n",
       " '_i11',\n",
       " '_i12',\n",
       " '_i13',\n",
       " '_i14',\n",
       " '_i15',\n",
       " '_i16',\n",
       " '_i2',\n",
       " '_i3',\n",
       " '_i4',\n",
       " '_i5',\n",
       " '_i6',\n",
       " '_i7',\n",
       " '_i8',\n",
       " '_i9',\n",
       " '_ih',\n",
       " '_ii',\n",
       " '_iii',\n",
       " '_oh',\n",
       " 'exit',\n",
       " 'get_ipython',\n",
       " 'mpl',\n",
       " 'my',\n",
       " 'open',\n",
       " 'plt',\n",
       " 'quit',\n",
       " 'x',\n",
       " 'y']"
      ]
     },
     "execution_count": 16,
     "metadata": {},
     "output_type": "execute_result"
    }
   ],
   "source": [
    "dir()"
   ]
  },
  {
   "cell_type": "code",
   "execution_count": 17,
   "id": "7e446d0c-594a-42ac-88d7-a7055df4379d",
   "metadata": {},
   "outputs": [
    {
     "data": {
      "text/plain": [
       "module"
      ]
     },
     "execution_count": 17,
     "metadata": {},
     "output_type": "execute_result"
    }
   ],
   "source": [
    "type(my)"
   ]
  },
  {
   "cell_type": "code",
   "execution_count": 18,
   "id": "c799e8b3-e23e-435d-bede-2c1eb9a4d2d6",
   "metadata": {},
   "outputs": [
    {
     "data": {
      "text/plain": [
       "['__builtins__',\n",
       " '__cached__',\n",
       " '__doc__',\n",
       " '__file__',\n",
       " '__loader__',\n",
       " '__name__',\n",
       " '__package__',\n",
       " '__spec__',\n",
       " 'f',\n",
       " 'hello',\n",
       " 'mysum']"
      ]
     },
     "execution_count": 18,
     "metadata": {},
     "output_type": "execute_result"
    }
   ],
   "source": [
    "dir(my)"
   ]
  },
  {
   "cell_type": "code",
   "execution_count": 21,
   "id": "83303dd9-d3bf-49c1-9907-a6bbdc472abc",
   "metadata": {},
   "outputs": [
    {
     "data": {
      "text/plain": [
       "15"
      ]
     },
     "execution_count": 21,
     "metadata": {},
     "output_type": "execute_result"
    }
   ],
   "source": [
    "my.mysum([1, 2, 3, 4, 5])"
   ]
  },
  {
   "cell_type": "code",
   "execution_count": 7,
   "id": "8d93165a-27a9-43f7-89a8-fe44b92de1a7",
   "metadata": {},
   "outputs": [
    {
     "name": "stdout",
     "output_type": "stream",
     "text": [
      "input : 0 0 100 Hello 100000\n"
     ]
    }
   ],
   "source": [
    "my.f(0, 0, e = 100000)"
   ]
  },
  {
   "cell_type": "code",
   "execution_count": 8,
   "id": "3d647e37-d5e7-4846-bfe2-2b2adef7e0d9",
   "metadata": {},
   "outputs": [],
   "source": [
    "import matplotlib as mpl\n",
    "import matplotlib.pyplot as plt"
   ]
  },
  {
   "cell_type": "code",
   "execution_count": 13,
   "id": "dc91986b-2ba9-459c-87bb-5f523bf78034",
   "metadata": {},
   "outputs": [
    {
     "data": {
      "text/plain": [
       "[<matplotlib.lines.Line2D at 0x2628b0a4e10>]"
      ]
     },
     "execution_count": 13,
     "metadata": {},
     "output_type": "execute_result"
    },
    {
     "data": {
      "image/png": "[encoded data removed]",
      "text/plain": [
       "<Figure size 640x480 with 1 Axes>"
      ]
     },
     "metadata": {},
     "output_type": "display_data"
    }
   ],
   "source": [
    "x = [1, 2, 3, 4]\n",
    "y = [10, 12 ,8 ,7]\n",
    "plt.plot(x, y, marker = 'o', color = 'm', linestyle = ':')"
   ]
  },
  {
   "cell_type": "code",
   "execution_count": 10,
   "id": "48b6ed2f-60d3-4bec-8813-5e72613ecd23",
   "metadata": {},
   "outputs": [
    {
     "data": {
      "text/plain": [
       "\u001b[31mSignature:\u001b[39m\n",
       "plt.plot(\n",
       "    *args: \u001b[33m'float | ArrayLike | str'\u001b[39m,\n",
       "    scalex: \u001b[33m'bool'\u001b[39m = \u001b[38;5;28;01mTrue\u001b[39;00m,\n",
       "    scaley: \u001b[33m'bool'\u001b[39m = \u001b[38;5;28;01mTrue\u001b[39;00m,\n",
       "    data=\u001b[38;5;28;01mNone\u001b[39;00m,\n",
       "    **kwargs,\n",
       ") -> \u001b[33m'list[Line2D]'\u001b[39m\n",
       "\u001b[31mDocstring:\u001b[39m\n",
       "Plot y versus x as lines and/or markers.\n",
       "\n",
       "Call signatures::\n",
       "\n",
       "    plot([x], y, [fmt], *, data=None, **kwargs)\n",
       "    plot([x], y, [fmt], [x2], y2, [fmt2], ..., **kwargs)\n",
       "\n",
       "The coordinates of the points or line nodes are given by *x*, *y*.\n",
       "\n",
       "The optional parameter *fmt* is a convenient way for defining basic\n",
       "formatting like color, marker and linestyle. It's a shortcut string\n",
       "notation described in the *Notes* section below.\n",
       "\n",
       ">>> plot(x, y)        # plot x and y using default line style and color\n",
       ">>> plot(x, y, 'bo')  # plot x and y using blue circle markers\n",
       ">>> plot(y)           # plot y using x as index array 0..N-1\n",
       ">>> plot(y, 'r+')     # ditto, but with red plusses\n",
       "\n",
       "You can use `.Line2D` properties as keyword arguments for more\n",
       "control on the appearance. Line properties and *fmt* can be mixed.\n",
       "The following two calls yield identical results:\n",
       "\n",
       ">>> plot(x, y, 'go--', linewidth=2, markersize=12)\n",
       ">>> plot(x, y, color='green', marker='o', linestyle='dashed',\n",
       "...      linewidth=2, markersize=12)\n",
       "\n",
       "When conflicting with *fmt*, keyword arguments take precedence.\n",
       "\n",
       "\n",
       "**Plotting labelled data**\n",
       "\n",
       "There's a convenient way for plotting objects with labelled data (i.e.\n",
       "data that can be accessed by index ``obj['y']``). Instead of giving\n",
       "the data in *x* and *y*, you can provide the object in the *data*\n",
       "parameter and just give the labels for *x* and *y*::\n",
       "\n",
       ">>> plot('xlabel', 'ylabel', data=obj)\n",
       "\n",
       "All indexable objects are supported. This could e.g. be a `dict`, a\n",
       "`pandas.DataFrame` or a structured numpy array.\n",
       "\n",
       "\n",
       "**Plotting multiple sets of data**\n",
       "\n",
       "There are various ways to plot multiple sets of data.\n",
       "\n",
       "- The most straight forward way is just to call `plot` multiple times.\n",
       "  Example:\n",
       "\n",
       "  >>> plot(x1, y1, 'bo')\n",
       "  >>> plot(x2, y2, 'go')\n",
       "\n",
       "- If *x* and/or *y* are 2D arrays, a separate data set will be drawn\n",
       "  for every column. If both *x* and *y* are 2D, they must have the\n",
       "  same shape. If only one of them is 2D with shape (N, m) the other\n",
       "  must have length N and will be used for every data set m.\n",
       "\n",
       "  Example:\n",
       "\n",
       "  >>> x = [1, 2, 3]\n",
       "  >>> y = np.array([[1, 2], [3, 4], [5, 6]])\n",
       "  >>> plot(x, y)\n",
       "\n",
       "  is equivalent to:\n",
       "\n",
       "  >>> for col in range(y.shape[1]):\n",
       "  ...     plot(x, y[:, col])\n",
       "\n",
       "- The third way is to specify multiple sets of *[x]*, *y*, *[fmt]*\n",
       "  groups::\n",
       "\n",
       "  >>> plot(x1, y1, 'g^', x2, y2, 'g-')\n",
       "\n",
       "  In this case, any additional keyword argument applies to all\n",
       "  datasets. Also, this syntax cannot be combined with the *data*\n",
       "  parameter.\n",
       "\n",
       "By default, each line is assigned a different style specified by a\n",
       "'style cycle'. The *fmt* and line property parameters are only\n",
       "necessary if you want explicit deviations from these defaults.\n",
       "Alternatively, you can also change the style cycle using\n",
       ":rc:`axes.prop_cycle`.\n",
       "\n",
       "\n",
       "Parameters\n",
       "----------\n",
       "x, y : array-like or float\n",
       "    The horizontal / vertical coordinates of the data points.\n",
       "    *x* values are optional and default to ``range(len(y))``.\n",
       "\n",
       "    Commonly, these parameters are 1D arrays.\n",
       "\n",
       "    They can also be scalars, or two-dimensional (in that case, the\n",
       "    columns represent separate data sets).\n",
       "\n",
       "    These arguments cannot be passed as keywords.\n",
       "\n",
       "fmt : str, optional\n",
       "    A format string, e.g. 'ro' for red circles. See the *Notes*\n",
       "    section for a full description of the format strings.\n",
       "\n",
       "    Format strings are just an abbreviation for quickly setting\n",
       "    basic line properties. All of these and more can also be\n",
       "    controlled by keyword arguments.\n",
       "\n",
       "    This argument cannot be passed as keyword.\n",
       "\n",
       "data : indexable object, optional\n",
       "    An object with labelled data. If given, provide the label names to\n",
       "    plot in *x* and *y*.\n",
       "\n",
       "    .. note::\n",
       "        Technically there's a slight ambiguity in calls where the\n",
       "        second label is a valid *fmt*. ``plot('n', 'o', data=obj)``\n",
       "        could be ``plt(x, y)`` or ``plt(y, fmt)``. In such cases,\n",
       "        the former interpretation is chosen, but a warning is issued.\n",
       "        You may suppress the warning by adding an empty format string\n",
       "        ``plot('n', 'o', '', data=obj)``.\n",
       "\n",
       "Returns\n",
       "-------\n",
       "list of `.Line2D`\n",
       "    A list of lines representing the plotted data.\n",
       "\n",
       "Other Parameters\n",
       "----------------\n",
       "scalex, scaley : bool, default: True\n",
       "    These parameters determine if the view limits are adapted to the\n",
       "    data limits. The values are passed on to\n",
       "    `~.axes.Axes.autoscale_view`.\n",
       "\n",
       "**kwargs : `~matplotlib.lines.Line2D` properties, optional\n",
       "    *kwargs* are used to specify properties like a line label (for\n",
       "    auto legends), linewidth, antialiasing, marker face color.\n",
       "    Example::\n",
       "\n",
       "    >>> plot([1, 2, 3], [1, 2, 3], 'go-', label='line 1', linewidth=2)\n",
       "    >>> plot([1, 2, 3], [1, 4, 9], 'rs', label='line 2')\n",
       "\n",
       "    If you specify multiple lines with one plot call, the kwargs apply\n",
       "    to all those lines. In case the label object is iterable, each\n",
       "    element is used as labels for each set of data.\n",
       "\n",
       "    Here is a list of available `.Line2D` properties:\n",
       "\n",
       "    Properties:\n",
       "    agg_filter: a filter function, which takes a (m, n, 3) float array and a dpi value, and returns a (m, n, 3) array and two offsets from the bottom left corner of the image\n",
       "    alpha: float or None\n",
       "    animated: bool\n",
       "    antialiased or aa: bool\n",
       "    clip_box: `~matplotlib.transforms.BboxBase` or None\n",
       "    clip_on: bool\n",
       "    clip_path: Patch or (Path, Transform) or None\n",
       "    color or c: :mpltype:`color`\n",
       "    dash_capstyle: `.CapStyle` or {'butt', 'projecting', 'round'}\n",
       "    dash_joinstyle: `.JoinStyle` or {'miter', 'round', 'bevel'}\n",
       "    dashes: sequence of floats (on/off ink in points) or (None, None)\n",
       "    data: (2, N) array or two 1D arrays\n",
       "    drawstyle or ds: {'default', 'steps', 'steps-pre', 'steps-mid', 'steps-post'}, default: 'default'\n",
       "    figure: `~matplotlib.figure.Figure` or `~matplotlib.figure.SubFigure`\n",
       "    fillstyle: {'full', 'left', 'right', 'bottom', 'top', 'none'}\n",
       "    gapcolor: :mpltype:`color` or None\n",
       "    gid: str\n",
       "    in_layout: bool\n",
       "    label: object\n",
       "    linestyle or ls: {'-', '--', '-.', ':', '', (offset, on-off-seq), ...}\n",
       "    linewidth or lw: float\n",
       "    marker: marker style string, `~.path.Path` or `~.markers.MarkerStyle`\n",
       "    markeredgecolor or mec: :mpltype:`color`\n",
       "    markeredgewidth or mew: float\n",
       "    markerfacecolor or mfc: :mpltype:`color`\n",
       "    markerfacecoloralt or mfcalt: :mpltype:`color`\n",
       "    markersize or ms: float\n",
       "    markevery: None or int or (int, int) or slice or list[int] or float or (float, float) or list[bool]\n",
       "    mouseover: bool\n",
       "    path_effects: list of `.AbstractPathEffect`\n",
       "    picker: float or callable[[Artist, Event], tuple[bool, dict]]\n",
       "    pickradius: float\n",
       "    rasterized: bool\n",
       "    sketch_params: (scale: float, length: float, randomness: float)\n",
       "    snap: bool or None\n",
       "    solid_capstyle: `.CapStyle` or {'butt', 'projecting', 'round'}\n",
       "    solid_joinstyle: `.JoinStyle` or {'miter', 'round', 'bevel'}\n",
       "    transform: unknown\n",
       "    url: str\n",
       "    visible: bool\n",
       "    xdata: 1D array\n",
       "    ydata: 1D array\n",
       "    zorder: float\n",
       "\n",
       "See Also\n",
       "--------\n",
       "scatter : XY scatter plot with markers of varying size and/or color (\n",
       "    sometimes also called bubble chart).\n",
       "\n",
       "Notes\n",
       "-----\n",
       "\n",
       ".. note::\n",
       "\n",
       "    This is the :ref:`pyplot wrapper <pyplot_interface>` for `.axes.Axes.plot`.\n",
       "\n",
       "**Format Strings**\n",
       "\n",
       "A format string consists of a part for color, marker and line::\n",
       "\n",
       "    fmt = '[marker][line][color]'\n",
       "\n",
       "Each of them is optional. If not provided, the value from the style\n",
       "cycle is used. Exception: If ``line`` is given, but no ``marker``,\n",
       "the data will be a line without markers.\n",
       "\n",
       "Other combinations such as ``[color][marker][line]`` are also\n",
       "supported, but note that their parsing may be ambiguous.\n",
       "\n",
       "**Markers**\n",
       "\n",
       "=============   ===============================\n",
       "character       description\n",
       "=============   ===============================\n",
       "``'.'``         point marker\n",
       "``','``         pixel marker\n",
       "``'o'``         circle marker\n",
       "``'v'``         triangle_down marker\n",
       "``'^'``         triangle_up marker\n",
       "``'<'``         triangle_left marker\n",
       "``'>'``         triangle_right marker\n",
       "``'1'``         tri_down marker\n",
       "``'2'``         tri_up marker\n",
       "``'3'``         tri_left marker\n",
       "``'4'``         tri_right marker\n",
       "``'8'``         octagon marker\n",
       "``'s'``         square marker\n",
       "``'p'``         pentagon marker\n",
       "``'P'``         plus (filled) marker\n",
       "``'*'``         star marker\n",
       "``'h'``         hexagon1 marker\n",
       "``'H'``         hexagon2 marker\n",
       "``'+'``         plus marker\n",
       "``'x'``         x marker\n",
       "``'X'``         x (filled) marker\n",
       "``'D'``         diamond marker\n",
       "``'d'``         thin_diamond marker\n",
       "``'|'``         vline marker\n",
       "``'_'``         hline marker\n",
       "=============   ===============================\n",
       "\n",
       "**Line Styles**\n",
       "\n",
       "=============    ===============================\n",
       "character        description\n",
       "=============    ===============================\n",
       "``'-'``          solid line style\n",
       "``'--'``         dashed line style\n",
       "``'-.'``         dash-dot line style\n",
       "``':'``          dotted line style\n",
       "=============    ===============================\n",
       "\n",
       "Example format strings::\n",
       "\n",
       "    'b'    # blue markers with default shape\n",
       "    'or'   # red circles\n",
       "    '-g'   # green solid line\n",
       "    '--'   # dashed line with default color\n",
       "    '^k:'  # black triangle_up markers connected by a dotted line\n",
       "\n",
       "**Colors**\n",
       "\n",
       "The supported color abbreviations are the single letter codes\n",
       "\n",
       "=============    ===============================\n",
       "character        color\n",
       "=============    ===============================\n",
       "``'b'``          blue\n",
       "``'g'``          green\n",
       "``'r'``          red\n",
       "``'c'``          cyan\n",
       "``'m'``          magenta\n",
       "``'y'``          yellow\n",
       "``'k'``          black\n",
       "``'w'``          white\n",
       "=============    ===============================\n",
       "\n",
       "and the ``'CN'`` colors that index into the default property cycle.\n",
       "\n",
       "If the color is the only part of the format string, you can\n",
       "additionally use any  `matplotlib.colors` spec, e.g. full names\n",
       "(``'green'``) or hex strings (``'#008000'``).\n",
       "\u001b[31mFile:\u001b[39m      c:\\pydev\\lib\\site-packages\\matplotlib\\pyplot.py\n",
       "\u001b[31mType:\u001b[39m      function"
      ]
     },
     "metadata": {},
     "output_type": "display_data"
    }
   ],
   "source": [
    "plt.plot?"
   ]
  },
  {
   "cell_type": "code",
   "execution_count": 22,
   "id": "7a14c884-5eed-49a4-8729-c8dc9bade82e",
   "metadata": {},
   "outputs": [],
   "source": [
    "# 객체 (object) = 여러가지 기능을 (나를 대신해서) 실행해 주는 놈 ㅋㅋ \n",
    "#               = 여러 함수를 포함한다. \n",
    "#               = 객체에 포함되어 있는 함수 ->(메쏘드 Method) "
   ]
  },
  {
   "cell_type": "code",
   "execution_count": 24,
   "id": "92fa08c3-c9ae-4466-bb9e-5405d1994eb2",
   "metadata": {},
   "outputs": [],
   "source": [
    "def run() : \n",
    "    print(\"I'm running\")\n",
    "    return"
   ]
  },
  {
   "cell_type": "code",
   "execution_count": 25,
   "id": "a59f3697-8910-4f67-b198-853de5eacda2",
   "metadata": {},
   "outputs": [
    {
     "name": "stdout",
     "output_type": "stream",
     "text": [
      "I'm running\n"
     ]
    }
   ],
   "source": [
    "run()"
   ]
  },
  {
   "cell_type": "code",
   "execution_count": 27,
   "id": "8076a6e5-aff3-4ccf-8950-6c7971b2f4a7",
   "metadata": {},
   "outputs": [],
   "source": [
    "class Car : # 세상(Class)에는 Car라는 것들이 있다.\n",
    "    def run() :\n",
    "        print(\"I'm running\")\n",
    "        return\n",
    "    def stop() : \n",
    "        print('I stopped')\n",
    "        return"
   ]
  },
  {
   "cell_type": "code",
   "execution_count": 32,
   "id": "97ad6e48-178d-4299-b639-f23ad35cbbc3",
   "metadata": {},
   "outputs": [],
   "source": [
    "class Marine : # 세상에는 Marine이라는 것들이 있다. \n",
    "    def move(target) : \n",
    "        # 마린들이 move하는 로직 \n",
    "        return\n",
    "\n",
    "    def attack(target) :\n",
    "        # 마린들이 attack하는 로직 \n",
    "        return"
   ]
  },
  {
   "cell_type": "code",
   "execution_count": 47,
   "id": "3bbbe43e-793f-4a3d-9e3a-811cf1ea69cd",
   "metadata": {},
   "outputs": [],
   "source": [
    "class Car :\n",
    "    def run(self, speed) :\n",
    "        print('run at speed', speed)\n",
    "        return\n",
    "    def stop(self) : \n",
    "        print('stop')\n",
    "        return\n",
    "        \n",
    "class Quick :\n",
    "    def run(self, speed) : \n",
    "        print('QuickBoard :', speed)\n",
    "        return\n",
    "    def stop(self) :\n",
    "        print('stop')\n",
    "        return"
   ]
  },
  {
   "cell_type": "code",
   "execution_count": 44,
   "id": "c5c1ebe9-7c2a-4e93-8c18-7f74147cfe6d",
   "metadata": {},
   "outputs": [],
   "source": [
    "c1 = Car() # 객체의 생성 # Car() : Car 객체를 생성하는 함수 : 생성자 함수 "
   ]
  },
  {
   "cell_type": "code",
   "execution_count": 45,
   "id": "2431f908-6ab8-407c-b8ba-fd8b46f7e53d",
   "metadata": {},
   "outputs": [
    {
     "name": "stdout",
     "output_type": "stream",
     "text": [
      "run at speed 60\n"
     ]
    }
   ],
   "source": [
    "c1.run(60) # -> Car.run(c1)"
   ]
  },
  {
   "cell_type": "code",
   "execution_count": 48,
   "id": "78522975-0bc7-48ce-b14e-06c063577bf3",
   "metadata": {},
   "outputs": [],
   "source": [
    "class Calculator : # 세상에는 계산기가 있다 \n",
    "    def add(self, a, b) :\n",
    "        c = (a + b)\n",
    "        return c\n",
    "\n",
    "    def sum(self, a) : # a는 리스트 \n",
    "        s = 0 \n",
    "        for k in range(0, len(a), 1) :\n",
    "            s = (s + a[k])\n",
    "        return s\n",
    "\n",
    "    def max(self, a) :\n",
    "        m = a[0]\n",
    "        for k in range(1, len(a), 1) :\n",
    "            if m < a[k] :\n",
    "                m = a[k]\n",
    "        return m    "
   ]
  },
  {
   "cell_type": "code",
   "execution_count": 49,
   "id": "9ea6d046-9f30-4898-97f6-41ce7d702a5a",
   "metadata": {},
   "outputs": [],
   "source": [
    "c1 = Calculator()"
   ]
  },
  {
   "cell_type": "code",
   "execution_count": 50,
   "id": "690eb699-760c-484a-a8c6-81d972bb3219",
   "metadata": {},
   "outputs": [
    {
     "data": {
      "text/plain": [
       "5"
      ]
     },
     "execution_count": 50,
     "metadata": {},
     "output_type": "execute_result"
    }
   ],
   "source": [
    "c1.add(2, 3)"
   ]
  },
  {
   "cell_type": "code",
   "execution_count": 51,
   "id": "7a8e6877-bd0e-4753-b402-7a180886b367",
   "metadata": {},
   "outputs": [
    {
     "name": "stdout",
     "output_type": "stream",
     "text": [
      "6\n"
     ]
    }
   ],
   "source": [
    "y = c1.max([4, 5, 6, 1, 2, 3])\n",
    "print(y)"
   ]
  },
  {
   "cell_type": "code",
   "execution_count": 57,
   "id": "4228c5fd-5911-4ee3-9184-852cfeec9eed",
   "metadata": {},
   "outputs": [],
   "source": [
    "class Vending : # 자판기(Vending machine) \n",
    "    def __init__(self, a) : \n",
    "        self.amt = 0 # 상태값 (State Value)\n",
    "        self.price = a \n",
    "        return\n",
    "\n",
    "    def show(self) : \n",
    "        print('잔액 :', self.amt)\n",
    "        return\n",
    "\n",
    "    def coin(self, x) :\n",
    "        self.amt = (self.amt + x)\n",
    "        self.show()\n",
    "        return \n",
    "\n",
    "    def coke(self) : \n",
    "        if self.amt >= self.price :\n",
    "            print('Enjoy Coke')\n",
    "            self.amt = (self.amt - self.price)\n",
    "            self.show()\n",
    "        else :\n",
    "            print('잔액이 부족합니다')\n",
    "        return"
   ]
  },
  {
   "cell_type": "code",
   "execution_count": 53,
   "id": "07719008-09b7-4097-b432-d1659adce251",
   "metadata": {},
   "outputs": [],
   "source": [
    "v1 = Vending(700)"
   ]
  },
  {
   "cell_type": "code",
   "execution_count": 54,
   "id": "7fe723dc-d40d-4b13-b192-dd3ccf4a49c7",
   "metadata": {},
   "outputs": [
    {
     "name": "stdout",
     "output_type": "stream",
     "text": [
      "잔액 : 0\n"
     ]
    }
   ],
   "source": [
    "v1.show()"
   ]
  },
  {
   "cell_type": "code",
   "execution_count": 55,
   "id": "ac77e0a5-44aa-4025-9c9a-25ab4f756660",
   "metadata": {},
   "outputs": [
    {
     "name": "stdout",
     "output_type": "stream",
     "text": [
      "잔액 : 1000\n"
     ]
    }
   ],
   "source": [
    "v1.coin(1000)"
   ]
  },
  {
   "cell_type": "code",
   "execution_count": 56,
   "id": "5001e527-60a2-4779-9295-a879edfb6b62",
   "metadata": {},
   "outputs": [
    {
     "name": "stdout",
     "output_type": "stream",
     "text": [
      "잔액 : 1500\n"
     ]
    }
   ],
   "source": [
    "v1.coin(500)"
   ]
  },
  {
   "cell_type": "code",
   "execution_count": 58,
   "id": "88bc077b-406f-418b-98e0-628de6c305c1",
   "metadata": {},
   "outputs": [],
   "source": [
    "v2 = Vending(800)"
   ]
  },
  {
   "cell_type": "code",
   "execution_count": 59,
   "id": "07b52b24-5de8-4198-bca7-653c2b57f21c",
   "metadata": {},
   "outputs": [
    {
     "name": "stdout",
     "output_type": "stream",
     "text": [
      "잔액 : 0\n"
     ]
    }
   ],
   "source": [
    "v2.show()"
   ]
  },
  {
   "cell_type": "code",
   "execution_count": 60,
   "id": "48a928b9-f4d5-41ce-9460-fb3da7b94921",
   "metadata": {},
   "outputs": [
    {
     "name": "stdout",
     "output_type": "stream",
     "text": [
      "잔액 : 500\n"
     ]
    }
   ],
   "source": [
    "v2.coin(500)"
   ]
  },
  {
   "cell_type": "code",
   "execution_count": 61,
   "id": "452f3760-db43-4f06-bc3d-4612f760be9b",
   "metadata": {},
   "outputs": [
    {
     "name": "stdout",
     "output_type": "stream",
     "text": [
      "잔액이 부족합니다\n"
     ]
    }
   ],
   "source": [
    "v2.coke()"
   ]
  },
  {
   "cell_type": "code",
   "execution_count": 62,
   "id": "6b0a0bad-0e2d-4db9-b542-a8516b7097af",
   "metadata": {},
   "outputs": [
    {
     "name": "stdout",
     "output_type": "stream",
     "text": [
      "잔액 : 1000\n"
     ]
    }
   ],
   "source": [
    "v2.coin(500)"
   ]
  },
  {
   "cell_type": "code",
   "execution_count": 63,
   "id": "c31f4def-af74-4531-8fd5-d1620e46d868",
   "metadata": {},
   "outputs": [
    {
     "name": "stdout",
     "output_type": "stream",
     "text": [
      "Enjoy Coke\n",
      "잔액 : 200\n"
     ]
    }
   ],
   "source": [
    "v2.coke()"
   ]
  },
  {
   "cell_type": "code",
   "execution_count": 208,
   "id": "6462f89d-4a36-4db9-a860-1324a331f0c7",
   "metadata": {},
   "outputs": [],
   "source": [
    "# f(x) = 2x + 0.7 = x = - 0.7/2 = - 0.35  # f(x) = 0 근을 구한다. (챌린지 실습)\n",
    "def f(x) :\n",
    "    y = (2 * x) + 0.7\n",
    "    return y"
   ]
  },
  {
   "cell_type": "code",
   "execution_count": 209,
   "id": "54284440-6c6a-4fcd-aaf6-b0084d2e49ba",
   "metadata": {},
   "outputs": [],
   "source": [
    "dx = 1\n",
    "x = -3"
   ]
  },
  {
   "cell_type": "code",
   "execution_count": 211,
   "id": "e59ff85e-1868-4910-9a40-e1958e3d1412",
   "metadata": {},
   "outputs": [
    {
     "name": "stdout",
     "output_type": "stream",
     "text": [
      "-0.35\n"
     ]
    }
   ],
   "source": [
    "# f(x) = 2x + 0.7 = x = - 0.7/2 = - 0.35  # f(x) = 0 근을 구한다. (챌린지 실습)\n",
    "def f(x) :\n",
    "    y = (2 * x) + 0.7\n",
    "    return y\n",
    "    \n",
    "dx = 1\n",
    "x = -3\n",
    "\n",
    "while(1) :\n",
    "    if f(x) * f(x + dx) > 0 :\n",
    "        x = (x + dx)\n",
    "    else :\n",
    "        dx = (dx / 10)\n",
    "    if dx < 0.01 :\n",
    "        break\n",
    "print(round(x, 2))"
   ]
  },
  {
   "cell_type": "code",
   "execution_count": 212,
   "id": "39a74ab2-060f-45c1-898b-4e3d1bd65963",
   "metadata": {},
   "outputs": [
    {
     "name": "stdout",
     "output_type": "stream",
     "text": [
      "-0.35\n"
     ]
    }
   ],
   "source": [
    "# f(x) = 2x + 0.7 = x = - 0.7/2 = - 0.35  # f(x) = 0 근을 구한다. (챌린지 실습)\n",
    "def f(x) :\n",
    "    y = (2 * x) + 0.7\n",
    "    return y\n",
    "    \n",
    "dx = 1\n",
    "x = -3\n",
    "\n",
    "for k in range(0, 100, 1) :\n",
    "    if f(x) * f(x + dx) > 0 :\n",
    "        x = (x + dx)\n",
    "    else :\n",
    "        dx = (dx / 10)\n",
    "    if dx < 0.01 :\n",
    "        break\n",
    "print(round(x, 2))"
   ]
  },
  {
   "cell_type": "code",
   "execution_count": null,
   "id": "cf08dfe8-99b2-4c3d-b6ad-fdf5897f4db7",
   "metadata": {},
   "outputs": [],
   "source": []
  }
 ],
 "metadata": {
  "kernelspec": {
   "display_name": "Python 3 (ipykernel)",
   "language": "python",
   "name": "python3"
  },
  "language_info": {
   "codemirror_mode": {
    "name": "ipython",
    "version": 3
   },
   "file_extension": ".py",
   "mimetype": "text/x-python",
   "name": "python",
   "nbconvert_exporter": "python",
   "pygments_lexer": "ipython3",
   "version": "3.13.5"
  }
 },
 "nbformat": 4,
 "nbformat_minor": 5
}
