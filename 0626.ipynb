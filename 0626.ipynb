{
 "cells": [
  {
   "cell_type": "code",
   "execution_count": 1,
   "id": "3098427e-22cd-4595-9e27-636a847894e9",
   "metadata": {},
   "outputs": [],
   "source": [
    "x = 10"
   ]
  },
  {
   "cell_type": "code",
   "execution_count": 2,
   "id": "c9d0352c-087c-469a-af70-1b76940954c2",
   "metadata": {},
   "outputs": [
    {
     "data": {
      "text/plain": [
       "['In',\n",
       " 'Out',\n",
       " '_',\n",
       " '__',\n",
       " '___',\n",
       " '__builtin__',\n",
       " '__builtins__',\n",
       " '__doc__',\n",
       " '__loader__',\n",
       " '__name__',\n",
       " '__package__',\n",
       " '__session__',\n",
       " '__spec__',\n",
       " '_dh',\n",
       " '_i',\n",
       " '_i1',\n",
       " '_i2',\n",
       " '_ih',\n",
       " '_ii',\n",
       " '_iii',\n",
       " '_oh',\n",
       " 'exit',\n",
       " 'get_ipython',\n",
       " 'open',\n",
       " 'quit',\n",
       " 'x']"
      ]
     },
     "execution_count": 2,
     "metadata": {},
     "output_type": "execute_result"
    }
   ],
   "source": [
    "dir()"
   ]
  },
  {
   "cell_type": "code",
   "execution_count": 3,
   "id": "13600f28-23e2-49ef-b671-380bea9030b9",
   "metadata": {},
   "outputs": [],
   "source": [
    "def f() : \n",
    "    x = 30\n",
    "    print(x)\n",
    "    return"
   ]
  },
  {
   "cell_type": "code",
   "execution_count": 4,
   "id": "5e351ae5-5aa3-4724-b35d-c1d53f63c60f",
   "metadata": {},
   "outputs": [
    {
     "name": "stdout",
     "output_type": "stream",
     "text": [
      "30\n"
     ]
    }
   ],
   "source": [
    "f()"
   ]
  },
  {
   "cell_type": "code",
   "execution_count": 385,
   "id": "f44df6d6-7db4-4109-9276-4e8c16c4c15b",
   "metadata": {},
   "outputs": [],
   "source": [
    "def g() : \n",
    "    print(x)\n",
    "    return"
   ]
  },
  {
   "cell_type": "code",
   "execution_count": 6,
   "id": "ae410474-6a32-41f8-926b-7315b93cf630",
   "metadata": {},
   "outputs": [
    {
     "name": "stdout",
     "output_type": "stream",
     "text": [
      "10\n"
     ]
    }
   ],
   "source": [
    "g()"
   ]
  },
  {
   "cell_type": "code",
   "execution_count": 7,
   "id": "6216a592-e3a1-49fe-8a76-86ee264ef9f9",
   "metadata": {},
   "outputs": [],
   "source": [
    "def h() :\n",
    "    print(y)\n",
    "    return"
   ]
  },
  {
   "cell_type": "code",
   "execution_count": 8,
   "id": "8343451d-86cf-4089-973b-4e5355181fec",
   "metadata": {},
   "outputs": [
    {
     "ename": "NameError",
     "evalue": "name 'y' is not defined",
     "output_type": "error",
     "traceback": [
      "\u001b[31m---------------------------------------------------------------------------\u001b[39m",
      "\u001b[31mNameError\u001b[39m                                 Traceback (most recent call last)",
      "\u001b[36mCell\u001b[39m\u001b[36m \u001b[39m\u001b[32mIn[8]\u001b[39m\u001b[32m, line 1\u001b[39m\n\u001b[32m----> \u001b[39m\u001b[32m1\u001b[39m \u001b[43mh\u001b[49m\u001b[43m(\u001b[49m\u001b[43m)\u001b[49m\n",
      "\u001b[36mCell\u001b[39m\u001b[36m \u001b[39m\u001b[32mIn[7]\u001b[39m\u001b[32m, line 2\u001b[39m, in \u001b[36mh\u001b[39m\u001b[34m()\u001b[39m\n\u001b[32m      1\u001b[39m \u001b[38;5;28;01mdef\u001b[39;00m\u001b[38;5;250m \u001b[39m\u001b[34mh\u001b[39m() :\n\u001b[32m----> \u001b[39m\u001b[32m2\u001b[39m     \u001b[38;5;28mprint\u001b[39m(\u001b[43my\u001b[49m)\n\u001b[32m      3\u001b[39m     \u001b[38;5;28;01mreturn\u001b[39;00m\n",
      "\u001b[31mNameError\u001b[39m: name 'y' is not defined"
     ]
    }
   ],
   "source": [
    "h()"
   ]
  },
  {
   "cell_type": "code",
   "execution_count": 9,
   "id": "fe5ffb8e-52f7-4846-a126-f63c845a337f",
   "metadata": {},
   "outputs": [],
   "source": [
    "# 어떤 리스트 a를 인자로 받아서 모든 항목의 합을 구해서 반환해주는 함수 \n",
    "# mysum()을 보이시오 "
   ]
  },
  {
   "cell_type": "code",
   "execution_count": 12,
   "id": "785d17fa-132e-47a8-b9b9-5ce3e3c7fd92",
   "metadata": {},
   "outputs": [],
   "source": [
    "def mysum(a) : \n",
    "    s = 0\n",
    "    for k in range(0, len(a), 1) : \n",
    "        s = s + a[k]\n",
    "    return s"
   ]
  },
  {
   "cell_type": "code",
   "execution_count": 19,
   "id": "0ce84d5f-2ce2-45fb-b56a-b1bbab80f810",
   "metadata": {},
   "outputs": [
    {
     "name": "stdout",
     "output_type": "stream",
     "text": [
      "sum = 55\n"
     ]
    }
   ],
   "source": [
    "a = [1, 2, 3, 4, 5, 6, 7, 8, 9, 10]\n",
    "s = mysum(a)\n",
    "print('sum =', s)"
   ]
  },
  {
   "cell_type": "code",
   "execution_count": 24,
   "id": "04dd2a2b-63db-40d3-94ff-2c5de3e0aa9a",
   "metadata": {},
   "outputs": [],
   "source": [
    "def positivesum(a) : # 다음 데이터의 양수값의 합을 구해보자 (실습1)\n",
    "    s = 0\n",
    "    for k in range(0, len(a), 1) :\n",
    "        if a[k] >= 0 :\n",
    "            s = s + a[k]\n",
    "    return s"
   ]
  },
  {
   "cell_type": "code",
   "execution_count": 25,
   "id": "999e289e-84b3-4596-b2f9-6b7e163e45d1",
   "metadata": {},
   "outputs": [
    {
     "name": "stdout",
     "output_type": "stream",
     "text": [
      "10\n"
     ]
    }
   ],
   "source": [
    "a = [-1, -2, -3, 4, -5, -4, 3, 2, 1]\n",
    "y = positivesum(a)\n",
    "print(y)"
   ]
  },
  {
   "cell_type": "code",
   "execution_count": 27,
   "id": "888bed76-3d3e-4a39-baee-dcb7cd8fc578",
   "metadata": {},
   "outputs": [],
   "source": [
    "def doublesum(a) : # 다음 데이터의 짝수값의 합을 구해보자 (실습2)\n",
    "    s = 0\n",
    "    for k in range(0, len(a), 1) : \n",
    "        if (a[k] % 2) == 0 :\n",
    "            s = (s + a[k])\n",
    "    return s"
   ]
  },
  {
   "cell_type": "code",
   "execution_count": 28,
   "id": "fb90feb0-af90-4e89-84b3-c40886e33b72",
   "metadata": {},
   "outputs": [
    {
     "name": "stdout",
     "output_type": "stream",
     "text": [
      "10\n"
     ]
    }
   ],
   "source": [
    "a = [1, 2, 2, 3, 1, 1, 2, 4, 1, 5]\n",
    "y = doublesum(a)\n",
    "print(y)"
   ]
  },
  {
   "cell_type": "code",
   "execution_count": 35,
   "id": "0707b4a9-aa91-48ca-9033-6f5e41ba9b84",
   "metadata": {},
   "outputs": [],
   "source": [
    "def rangesum(a) : # 다음 데이터 중 -5보다 크고 5보다 작은 수의 합을 구해보자 (실습3)\n",
    "    s = 0\n",
    "    for k in range(0, len(a), 1) :\n",
    "        if (-5 < a[k] < 5) :\n",
    "            s = (s + a[k]) \n",
    "    return s"
   ]
  },
  {
   "cell_type": "code",
   "execution_count": 39,
   "id": "a596942c-dae3-4281-b31c-7d20c82c58d7",
   "metadata": {},
   "outputs": [
    {
     "name": "stdout",
     "output_type": "stream",
     "text": [
      "0\n"
     ]
    }
   ],
   "source": [
    "a = [-3, 4, -9, -10, 1, -6, -2]\n",
    "y = rangesum(a)\n",
    "print(y)"
   ]
  },
  {
   "cell_type": "code",
   "execution_count": 68,
   "id": "ee27c340-932a-4ef9-a324-08ff722f8003",
   "metadata": {},
   "outputs": [],
   "source": [
    "def square(a, b) : # 멱승(6)을 구해보자 (실습4)\n",
    "    c = 2\n",
    "    for k in range (0, b-1, 1) :\n",
    "        c = (c * a)\n",
    "    return c"
   ]
  },
  {
   "cell_type": "code",
   "execution_count": 69,
   "id": "2fcb623a-81c1-4b44-9f12-698f2babd0a2",
   "metadata": {},
   "outputs": [
    {
     "name": "stdout",
     "output_type": "stream",
     "text": [
      "64\n"
     ]
    }
   ],
   "source": [
    "y = square(2, 6)\n",
    "print(y)"
   ]
  },
  {
   "cell_type": "code",
   "execution_count": 51,
   "id": "abd4eb09-6163-4b69-8193-84810af97dda",
   "metadata": {},
   "outputs": [],
   "source": [
    "import math"
   ]
  },
  {
   "cell_type": "code",
   "execution_count": 52,
   "id": "921b00e6-b7f4-43fc-8192-3b8010b9f00d",
   "metadata": {},
   "outputs": [
    {
     "data": {
      "text/plain": [
       "\u001b[31mSignature:\u001b[39m math.pow(x, y, /)\n",
       "\u001b[31mDocstring:\u001b[39m Return x**y (x to the power of y).\n",
       "\u001b[31mType:\u001b[39m      builtin_function_or_method"
      ]
     },
     "metadata": {},
     "output_type": "display_data"
    }
   ],
   "source": [
    "math.pow?"
   ]
  },
  {
   "cell_type": "code",
   "execution_count": 53,
   "id": "2b60160f-ad6f-439d-a6c4-8a27c894d877",
   "metadata": {},
   "outputs": [
    {
     "data": {
      "text/plain": [
       "64.0"
      ]
     },
     "execution_count": 53,
     "metadata": {},
     "output_type": "execute_result"
    }
   ],
   "source": [
    "math.pow(2, 6)"
   ]
  },
  {
   "cell_type": "code",
   "execution_count": 81,
   "id": "b1de0721-80c7-4c2c-a429-61ffa9e518e5",
   "metadata": {},
   "outputs": [],
   "source": [
    "# 파이썬에서는 모든게 객체(object) 이다. \n",
    "# 객체 = 데이터 + 연산"
   ]
  },
  {
   "cell_type": "code",
   "execution_count": 82,
   "id": "a08df0f3-8069-4359-8d6b-90948bfd25ae",
   "metadata": {},
   "outputs": [
    {
     "data": {
      "text/plain": [
       "list"
      ]
     },
     "execution_count": 82,
     "metadata": {},
     "output_type": "execute_result"
    }
   ],
   "source": [
    "type(a)"
   ]
  },
  {
   "cell_type": "code",
   "execution_count": 84,
   "id": "84971fb8-ac83-4d4e-9dac-d67b19de1bea",
   "metadata": {},
   "outputs": [
    {
     "name": "stdout",
     "output_type": "stream",
     "text": [
      "['__add__', '__class__', '__class_getitem__', '__contains__', '__delattr__', '__delitem__', '__dir__', '__doc__', '__eq__', '__format__', '__ge__', '__getattribute__', '__getitem__', '__getstate__', '__gt__', '__hash__', '__iadd__', '__imul__', '__init__', '__init_subclass__', '__iter__', '__le__', '__len__', '__lt__', '__mul__', '__ne__', '__new__', '__reduce__', '__reduce_ex__', '__repr__', '__reversed__', '__rmul__', '__setattr__', '__setitem__', '__sizeof__', '__str__', '__subclasshook__', 'append', 'clear', 'copy', 'count', 'extend', 'index', 'insert', 'pop', 'remove', 'reverse', 'sort']\n"
     ]
    }
   ],
   "source": [
    "print(dir(a)) # dir(list)"
   ]
  },
  {
   "cell_type": "code",
   "execution_count": 91,
   "id": "c6255654-4454-4c10-a189-9cdf66f19b31",
   "metadata": {},
   "outputs": [
    {
     "data": {
      "text/plain": [
       "\u001b[31mSignature:\u001b[39m a.append(object, /)\n",
       "\u001b[31mDocstring:\u001b[39m Append object to the end of the list.\n",
       "\u001b[31mType:\u001b[39m      builtin_function_or_method"
      ]
     },
     "metadata": {},
     "output_type": "display_data"
    }
   ],
   "source": [
    "a.append?"
   ]
  },
  {
   "cell_type": "code",
   "execution_count": 92,
   "id": "d50aeaab-87a4-411c-9023-9bd0afe71d4c",
   "metadata": {},
   "outputs": [],
   "source": [
    "x = [1, 2, 3, 'moble', a]"
   ]
  },
  {
   "cell_type": "code",
   "execution_count": 93,
   "id": "8ed74ba6-68d7-4ab0-91f6-93e6f5b73958",
   "metadata": {},
   "outputs": [
    {
     "data": {
      "text/plain": [
       "[1, 2, 3, 'moble', [4, 5, 9, 11, 15]]"
      ]
     },
     "execution_count": 93,
     "metadata": {},
     "output_type": "execute_result"
    }
   ],
   "source": [
    "x"
   ]
  },
  {
   "cell_type": "code",
   "execution_count": 100,
   "id": "d3435d9c-e6bd-4437-a4eb-63571cb9dce6",
   "metadata": {},
   "outputs": [
    {
     "data": {
      "text/plain": [
       "[4, 5, 9, 11, 15]"
      ]
     },
     "execution_count": 100,
     "metadata": {},
     "output_type": "execute_result"
    }
   ],
   "source": [
    "a"
   ]
  },
  {
   "cell_type": "code",
   "execution_count": 101,
   "id": "c2b3a0f5-0d2e-4cbe-8f35-f621c3399a7f",
   "metadata": {},
   "outputs": [],
   "source": [
    "a.append(17)"
   ]
  },
  {
   "cell_type": "code",
   "execution_count": 102,
   "id": "b6ef0780-5b68-4a05-adc4-f75442ea83f0",
   "metadata": {},
   "outputs": [
    {
     "data": {
      "text/plain": [
       "[4, 5, 9, 11, 15, 17]"
      ]
     },
     "execution_count": 102,
     "metadata": {},
     "output_type": "execute_result"
    }
   ],
   "source": [
    "a"
   ]
  },
  {
   "cell_type": "code",
   "execution_count": 107,
   "id": "95212b42-33b5-44a9-bf60-7a7f9e6ab632",
   "metadata": {},
   "outputs": [
    {
     "name": "stdout",
     "output_type": "stream",
     "text": [
      "[1, 2, 3]\n"
     ]
    }
   ],
   "source": [
    "a = [1, 2, 3]\n",
    "b = a\n",
    "print(b)"
   ]
  },
  {
   "cell_type": "code",
   "execution_count": 108,
   "id": "47329ea9-1466-4728-9846-0c5d2fd10a04",
   "metadata": {},
   "outputs": [
    {
     "name": "stdout",
     "output_type": "stream",
     "text": [
      "[100, 2, 3]\n"
     ]
    }
   ],
   "source": [
    "b[0] = 100\n",
    "print(a)"
   ]
  },
  {
   "cell_type": "code",
   "execution_count": 113,
   "id": "93765640-e1ea-4e9c-9657-9e71ae33d504",
   "metadata": {},
   "outputs": [],
   "source": [
    "c = []"
   ]
  },
  {
   "cell_type": "code",
   "execution_count": 115,
   "id": "afb6fb97-41e1-4e8e-88ad-4582181f3a2c",
   "metadata": {},
   "outputs": [],
   "source": [
    "c.append(4) # c 한테 4를 덧붙여달라고 요청힌디"
   ]
  },
  {
   "cell_type": "code",
   "execution_count": 116,
   "id": "22a7ce28-a81a-4703-8044-3d2e9e499751",
   "metadata": {},
   "outputs": [
    {
     "data": {
      "text/plain": [
       "[4]"
      ]
     },
     "execution_count": 116,
     "metadata": {},
     "output_type": "execute_result"
    }
   ],
   "source": [
    "c"
   ]
  },
  {
   "cell_type": "code",
   "execution_count": 117,
   "id": "6547182c-6cc7-4248-9806-cf573233edd8",
   "metadata": {},
   "outputs": [],
   "source": [
    "c.append(5)"
   ]
  },
  {
   "cell_type": "code",
   "execution_count": 118,
   "id": "c2c01d0e-dd15-4639-b4e6-2f27760f397d",
   "metadata": {},
   "outputs": [
    {
     "data": {
      "text/plain": [
       "[4, 5]"
      ]
     },
     "execution_count": 118,
     "metadata": {},
     "output_type": "execute_result"
    }
   ],
   "source": [
    "c"
   ]
  },
  {
   "cell_type": "code",
   "execution_count": 262,
   "id": "76e2a192-24c3-4d81-a19e-299f5a9ec1d8",
   "metadata": {},
   "outputs": [],
   "source": [
    "a = [4, 5, 9, 11, 15, 16, 20] # 오름차순으로 정렬되어 있는 리스트 \n",
    "b = [2, 3, 9, 10] #오름차순으로 정렬되어 있다 \n",
    "# a와 b 리스트를 merge : 오름차순으로 정렬   "
   ]
  },
  {
   "cell_type": "code",
   "execution_count": 263,
   "id": "48ff2c69-64b9-449e-b00b-9b0eff229741",
   "metadata": {},
   "outputs": [],
   "source": [
    "c = []\n",
    "ap = 0\n",
    "bp = 0 "
   ]
  },
  {
   "cell_type": "code",
   "execution_count": 269,
   "id": "d56c13a8-7e2e-4cd4-97f5-153e8b14adec",
   "metadata": {},
   "outputs": [],
   "source": [
    "def merge(a, b) : # a와 b 리스트(이미 오름차순으로 정렬된 리스트)를 merge : 오름차순으로 정렬하는 함수만들기   \n",
    "    c = []\n",
    "    ap = 0\n",
    "    bp = 0 \n",
    "    while(True) :\n",
    "        if a[ap] <= b[bp] : \n",
    "            c.append(a[ap])\n",
    "            if ap < (len(a) - 1) :\n",
    "                ap = ap + 1\n",
    "            else : \n",
    "                for k in range(bp, len(b), 1) :\n",
    "                    c.append (b[k])\n",
    "                break\n",
    "        else : \n",
    "            c.append(b[bp])\n",
    "            if bp < (len(b) - 1): \n",
    "                bp = bp + 1\n",
    "            else : \n",
    "                for k in range(ap, len(a), 1) :\n",
    "                    c.append (a[k]) \n",
    "                break\n",
    "    return c"
   ]
  },
  {
   "cell_type": "code",
   "execution_count": 270,
   "id": "90f6ac37-e3c5-4eaa-b09f-9a2ca4323a93",
   "metadata": {},
   "outputs": [
    {
     "name": "stdout",
     "output_type": "stream",
     "text": [
      "[2, 3, 4, 5, 9, 9, 10, 11, 15, 16, 20]\n"
     ]
    }
   ],
   "source": [
    "a = [4, 5, 9, 11, 15, 16, 20]  \n",
    "b = [2, 3, 9, 10] \n",
    "y = merge(a, b)\n",
    "print(y)"
   ]
  },
  {
   "cell_type": "code",
   "execution_count": 230,
   "id": "7e129e61-758d-4096-86e5-121305c866f8",
   "metadata": {},
   "outputs": [
    {
     "name": "stdout",
     "output_type": "stream",
     "text": [
      "3\n",
      "3\n",
      "[2, 3, 4, 5, 9, 9, 10, 11, 15, 16, 20]\n"
     ]
    }
   ],
   "source": [
    "print(ap)\n",
    "print(bp)\n",
    "print(c)"
   ]
  },
  {
   "cell_type": "code",
   "execution_count": 211,
   "id": "aeb5084b-d0d5-434e-9248-3297e28e7da2",
   "metadata": {},
   "outputs": [],
   "source": [
    "a.extend(b)"
   ]
  },
  {
   "cell_type": "code",
   "execution_count": 212,
   "id": "9cf33368-7f52-48d1-9908-a2f29bfdc99f",
   "metadata": {},
   "outputs": [
    {
     "data": {
      "text/plain": [
       "[4, 5, 9, 11, 15, 16, 20, 2, 3, 9, 10]"
      ]
     },
     "execution_count": 212,
     "metadata": {},
     "output_type": "execute_result"
    }
   ],
   "source": [
    "a"
   ]
  },
  {
   "cell_type": "code",
   "execution_count": 213,
   "id": "04a9a579-87b6-446b-8e3d-f3a559791286",
   "metadata": {},
   "outputs": [],
   "source": [
    "a.sort()"
   ]
  },
  {
   "cell_type": "code",
   "execution_count": 214,
   "id": "f0a51c9d-b57b-44e7-95b6-5e7faf476321",
   "metadata": {},
   "outputs": [
    {
     "data": {
      "text/plain": [
       "[2, 3, 4, 5, 9, 9, 10, 11, 15, 16, 20]"
      ]
     },
     "execution_count": 214,
     "metadata": {},
     "output_type": "execute_result"
    }
   ],
   "source": [
    "a"
   ]
  },
  {
   "cell_type": "code",
   "execution_count": 271,
   "id": "07487c75-6d56-4ccd-b2f3-7f479a20cb76",
   "metadata": {},
   "outputs": [],
   "source": [
    "# 선택정렬 (selection sorting)\n",
    "# 정렬되지 않은 부분 중에서 가장 큰 값을 찾은 후에 선택한 후에\n",
    "# 가장 마지막 값과 교환(Swap)한다. "
   ]
  },
  {
   "cell_type": "code",
   "execution_count": 293,
   "id": "3a06e649-006d-40c4-9ebb-401990a5f08f",
   "metadata": {},
   "outputs": [],
   "source": [
    "a = [5, 4, 1, 9, 7, 8, 2, 3, 6]"
   ]
  },
  {
   "cell_type": "code",
   "execution_count": 294,
   "id": "bc11cd63-d9e4-4755-bb0f-c7e6b13d3b69",
   "metadata": {},
   "outputs": [
    {
     "name": "stdout",
     "output_type": "stream",
     "text": [
      "9 3\n"
     ]
    }
   ],
   "source": [
    "m = a[0] # 가장 큰 값을 찾아라\n",
    "idx = 0\n",
    "for k in range(1, len(a), 1) : \n",
    "    if m < a[k] :\n",
    "        m = a[k]\n",
    "        idx = k \n",
    "print(m, idx)"
   ]
  },
  {
   "cell_type": "code",
   "execution_count": 295,
   "id": "60b542f4-efad-4970-80fe-aad7a032cb84",
   "metadata": {},
   "outputs": [],
   "source": [
    "tmp = a[len(a) - 1]\n",
    "a[len(a) - 1] = a[idx] # 가장 마지막 값과 바꿔라 (swap logic)\n",
    "a[idx] = tmp # over되기 때문에 다른변수에 카피해둬야함 "
   ]
  },
  {
   "cell_type": "code",
   "execution_count": 296,
   "id": "20205586-f406-45ca-8022-66c176e7df4e",
   "metadata": {},
   "outputs": [
    {
     "data": {
      "text/plain": [
       "[5, 4, 1, 6, 7, 8, 2, 3, 9]"
      ]
     },
     "execution_count": 296,
     "metadata": {},
     "output_type": "execute_result"
    }
   ],
   "source": [
    "a"
   ]
  },
  {
   "cell_type": "code",
   "execution_count": 306,
   "id": "e1bd8979-bed4-44ec-a79e-9a7b9a31b19f",
   "metadata": {},
   "outputs": [],
   "source": [
    "x, y = y, x # 파이썬에서만 가능 비추천 (X) 알고쓰면 ㅇㅋ 모르면 안댐 공부할때 쓰지말자"
   ]
  },
  {
   "cell_type": "code",
   "execution_count": 309,
   "id": "5cf70a36-cf9d-48a6-9139-2f6c2e4899de",
   "metadata": {},
   "outputs": [
    {
     "name": "stdout",
     "output_type": "stream",
     "text": [
      "8 5\n"
     ]
    }
   ],
   "source": [
    "m = a[0] # 가장 큰 값을 찾아라 (마지막 소팅된 곳 전까지만)\n",
    "idx = 0\n",
    "for k in range(1, (len(a) - 1), 1) : \n",
    "    if m < a[k] :\n",
    "        m = a[k]\n",
    "        idx = k \n",
    "print(m, idx)"
   ]
  },
  {
   "cell_type": "code",
   "execution_count": 310,
   "id": "4a2cb8b0-7886-48e4-ba10-d3541a7e577e",
   "metadata": {},
   "outputs": [],
   "source": [
    "tmp = a[len(a) - 2]\n",
    "a[len(a) - 2] = a[idx] # 가장 마지막 값과 바꿔라 (swap logic)\n",
    "a[idx] = tmp # over되기 때문에 다른변수에 카피해둬야함 "
   ]
  },
  {
   "cell_type": "code",
   "execution_count": 311,
   "id": "f7f10670-ce90-4d41-83ac-88461edc784e",
   "metadata": {},
   "outputs": [
    {
     "data": {
      "text/plain": [
       "[5, 4, 1, 6, 7, 3, 2, 8, 9]"
      ]
     },
     "execution_count": 311,
     "metadata": {},
     "output_type": "execute_result"
    }
   ],
   "source": [
    "a"
   ]
  },
  {
   "cell_type": "code",
   "execution_count": 369,
   "id": "37b9fe1c-3616-4e0e-a1d9-3c5157200211",
   "metadata": {},
   "outputs": [],
   "source": [
    "def selectionsort(a) :\n",
    "    for i in range(len(a), 0, -1) :    \n",
    "        m = a[0] # 가장 큰 값을 찾아라 (최대값과 그 인덱스)\n",
    "        idx = 0\n",
    "        for k in range(1, i, 1) : # for i = len(a), len(a) - 1 , ~~~, 1 > 0 \n",
    "            if m < a[k] :\n",
    "                m = a[k]\n",
    "                idx = k \n",
    "        \n",
    "        tmp = a[i - 1]\n",
    "        a[i - 1] = a[idx] # 정렬안된 가장 마지막 값과 바꿔라 (swap logic)\n",
    "        a[idx] = tmp # over되기 때문에 다른변수에 카피해둬야함 그것을 쓴다 \n",
    "    \n",
    "    return a"
   ]
  },
  {
   "cell_type": "code",
   "execution_count": 370,
   "id": "6edd5630-5432-48c2-b6ed-d304b3c4ba7e",
   "metadata": {},
   "outputs": [
    {
     "name": "stdout",
     "output_type": "stream",
     "text": [
      "[1, 2, 3, 4, 5, 6, 7, 8, 9]\n"
     ]
    }
   ],
   "source": [
    "a = [5, 4, 1, 9, 7, 8, 2, 3, 6]\n",
    "y = selectionsort(a)\n",
    "print(y)"
   ]
  },
  {
   "cell_type": "code",
   "execution_count": 331,
   "id": "d5669acc-ad9e-4a2c-9c34-0879d8e8fa93",
   "metadata": {},
   "outputs": [],
   "source": [
    "# 버블소팅 알고리즘 \n",
    "# 비교량이 많음, 중간쯤만 가도 정렬이 끝남 "
   ]
  },
  {
   "cell_type": "code",
   "execution_count": 332,
   "id": "6dd5a753-9b81-4ef9-9626-5c1832420c91",
   "metadata": {},
   "outputs": [],
   "source": [
    "# 검색 (search)"
   ]
  },
  {
   "cell_type": "code",
   "execution_count": 343,
   "id": "eea58400-15fa-4478-a2a2-9791eb3f1574",
   "metadata": {},
   "outputs": [],
   "source": [
    "customer = [\n",
    "    {'id' : 1, 'name' : 'Kim', 'phone' : 1234, 'addr' : 'Seoul'},\n",
    "    {'id' : 2, 'name' : 'Lee', 'phone' : 3456, 'addr' : 'Suwon'},\n",
    "    {'id' : 3, 'name' : 'Park', 'phone' : 7890, 'addr' : 'Busan'},\n",
    "    {'id' : 4, 'name' : 'Ga', 'phone' : 1020, 'addr' : 'Cheonan'},\n",
    "]"
   ]
  },
  {
   "cell_type": "code",
   "execution_count": 344,
   "id": "129fad26-235d-4787-a3f2-321f8edbdc66",
   "metadata": {},
   "outputs": [
    {
     "data": {
      "text/plain": [
       "[{'id': 1, 'name': 'Kim', 'phone': 1234, 'addr': 'Seoul'},\n",
       " {'id': 2, 'name': 'Lee', 'phone': 3456, 'addr': 'Suwon'},\n",
       " {'id': 3, 'name': 'Park', 'phone': 7890, 'addr': 'Busan'},\n",
       " {'id': 4, 'name': 'Ga', 'phone': 1020, 'addr': 'Cheonan'}]"
      ]
     },
     "execution_count": 344,
     "metadata": {},
     "output_type": "execute_result"
    }
   ],
   "source": [
    "customer"
   ]
  },
  {
   "cell_type": "code",
   "execution_count": 348,
   "id": "1adc2a71-f483-4d17-9566-08b4f777ed03",
   "metadata": {},
   "outputs": [
    {
     "data": {
      "text/plain": [
       "'Kim'"
      ]
     },
     "execution_count": 348,
     "metadata": {},
     "output_type": "execute_result"
    }
   ],
   "source": [
    "customer[0]['name']"
   ]
  },
  {
   "cell_type": "code",
   "execution_count": 349,
   "id": "446de44c-ca87-4f5f-bc96-b857b5b4d77a",
   "metadata": {},
   "outputs": [
    {
     "data": {
      "text/plain": [
       "'Cheonan'"
      ]
     },
     "execution_count": 349,
     "metadata": {},
     "output_type": "execute_result"
    }
   ],
   "source": [
    "customer[3]['addr']"
   ]
  },
  {
   "cell_type": "code",
   "execution_count": 350,
   "id": "d52c11ff-3e59-4b8d-a426-391b7ff69f1a",
   "metadata": {},
   "outputs": [],
   "source": [
    "for k in range(0, len(customer), 1) : # 검색 \n",
    "    if customer[k]['name'] == 'Park' : \n",
    "        customer[k]['addr'] = 'Suwon'"
   ]
  },
  {
   "cell_type": "code",
   "execution_count": 351,
   "id": "5e252deb-8a56-4a99-a68c-ba15ab196d60",
   "metadata": {},
   "outputs": [
    {
     "data": {
      "text/plain": [
       "[{'id': 1, 'name': 'Kim', 'phone': 1234, 'addr': 'Seoul'},\n",
       " {'id': 2, 'name': 'Lee', 'phone': 3456, 'addr': 'Suwon'},\n",
       " {'id': 3, 'name': 'Park', 'phone': 7890, 'addr': 'Suwon'},\n",
       " {'id': 4, 'name': 'Ga', 'phone': 1020, 'addr': 'Cheonan'}]"
      ]
     },
     "execution_count": 351,
     "metadata": {},
     "output_type": "execute_result"
    }
   ],
   "source": [
    "customer"
   ]
  },
  {
   "cell_type": "code",
   "execution_count": 352,
   "id": "94d870c0-8c19-4460-9f18-b4104bd03725",
   "metadata": {},
   "outputs": [],
   "source": [
    "x = 'hello'"
   ]
  },
  {
   "cell_type": "code",
   "execution_count": 354,
   "id": "b5905217-ce67-4ec0-a5ca-6626d28d2150",
   "metadata": {},
   "outputs": [
    {
     "name": "stdout",
     "output_type": "stream",
     "text": [
      "['__add__', '__class__', '__contains__', '__delattr__', '__dir__', '__doc__', '__eq__', '__format__', '__ge__', '__getattribute__', '__getitem__', '__getnewargs__', '__getstate__', '__gt__', '__hash__', '__init__', '__init_subclass__', '__iter__', '__le__', '__len__', '__lt__', '__mod__', '__mul__', '__ne__', '__new__', '__reduce__', '__reduce_ex__', '__repr__', '__rmod__', '__rmul__', '__setattr__', '__sizeof__', '__str__', '__subclasshook__', 'capitalize', 'casefold', 'center', 'count', 'encode', 'endswith', 'expandtabs', 'find', 'format', 'format_map', 'index', 'isalnum', 'isalpha', 'isascii', 'isdecimal', 'isdigit', 'isidentifier', 'islower', 'isnumeric', 'isprintable', 'isspace', 'istitle', 'isupper', 'join', 'ljust', 'lower', 'lstrip', 'maketrans', 'partition', 'removeprefix', 'removesuffix', 'replace', 'rfind', 'rindex', 'rjust', 'rpartition', 'rsplit', 'rstrip', 'split', 'splitlines', 'startswith', 'strip', 'swapcase', 'title', 'translate', 'upper', 'zfill']\n"
     ]
    }
   ],
   "source": [
    "print(dir(x))"
   ]
  },
  {
   "cell_type": "code",
   "execution_count": 355,
   "id": "236ac01d-0e8a-42b3-a4e0-0dda613ca155",
   "metadata": {},
   "outputs": [
    {
     "data": {
      "text/plain": [
       "\u001b[31mSignature:\u001b[39m x.split(sep=\u001b[38;5;28;01mNone\u001b[39;00m, maxsplit=-\u001b[32m1\u001b[39m)\n",
       "\u001b[31mDocstring:\u001b[39m\n",
       "Return a list of the substrings in the string, using sep as the separator string.\n",
       "\n",
       "  sep\n",
       "    The separator used to split the string.\n",
       "\n",
       "    When set to None (the default value), will split on any whitespace\n",
       "    character (including \\n \\r \\t \\f and spaces) and will discard\n",
       "    empty strings from the result.\n",
       "  maxsplit\n",
       "    Maximum number of splits.\n",
       "    -1 (the default value) means no limit.\n",
       "\n",
       "Splitting starts at the front of the string and works to the end.\n",
       "\n",
       "Note, str.split() is mainly useful for data that has been intentionally\n",
       "delimited.  With natural text that includes punctuation, consider using\n",
       "the regular expression module.\n",
       "\u001b[31mType:\u001b[39m      builtin_function_or_method"
      ]
     },
     "metadata": {},
     "output_type": "display_data"
    }
   ],
   "source": [
    "x.split?"
   ]
  },
  {
   "cell_type": "code",
   "execution_count": 365,
   "id": "c2799b9e-07cf-4787-ba0a-36de3a7e355f",
   "metadata": {},
   "outputs": [],
   "source": [
    "url = 'naver.co.kr'\n",
    "r = url.split('.')"
   ]
  },
  {
   "cell_type": "code",
   "execution_count": 376,
   "id": "1c3b69e4-06c4-41fc-9c90-257b164806eb",
   "metadata": {},
   "outputs": [
    {
     "name": "stdout",
     "output_type": "stream",
     "text": [
      "naver co kr\n"
     ]
    }
   ],
   "source": [
    "print(r[0], r[1], r[2])"
   ]
  },
  {
   "cell_type": "code",
   "execution_count": 486,
   "id": "abf6c665-87ce-40db-8037-0eadb919af45",
   "metadata": {},
   "outputs": [],
   "source": [
    "def g(a, b) : # 최소공배수 구하는 함수만들어보기 (연습)\n",
    "    for k in range(1, (a * b) + 1, 1) : # 시작점이 1인 이유 : 0은 어떤 수로 나눠도 0이기 때문에 k = 0이 출력됨\n",
    "        if (k % b) == 0:                # 끝점이 (a * b) + 1인 이유 : 두 수의 최소공배수가 두 수의 곱일 경우 \n",
    "            if (k % a) == 0:            # for문에서 서로의 곱을 연산하지 못하기 때문에 + 1을 추가하여 한번 더 반복을 수행하게 만듬 \n",
    "                return k "
   ]
  },
  {
   "cell_type": "code",
   "execution_count": 491,
   "id": "5edec4c1-d2d5-4671-a15c-dc73547aa009",
   "metadata": {},
   "outputs": [
    {
     "name": "stdout",
     "output_type": "stream",
     "text": [
      "30\n"
     ]
    }
   ],
   "source": [
    "a = 10\n",
    "b = 15\n",
    "c = g(a, b)\n",
    "print(c)"
   ]
  },
  {
   "cell_type": "code",
   "execution_count": 488,
   "id": "45447e17-1e73-4a21-85ec-92f50b912759",
   "metadata": {},
   "outputs": [],
   "source": [
    "def f(a) : # 어떤 정수 값을 입력하면 2/10에 해당하는 값을 구해주는 함수만들기 (연습)\n",
    "    b = (a * 2/10)\n",
    "    return b"
   ]
  },
  {
   "cell_type": "code",
   "execution_count": 489,
   "id": "5fbb6542-e931-4785-b460-3f7867e733a4",
   "metadata": {},
   "outputs": [
    {
     "name": "stdout",
     "output_type": "stream",
     "text": [
      "20.0\n"
     ]
    }
   ],
   "source": [
    "a = 100\n",
    "b = f(a)\n",
    "print(b) "
   ]
  },
  {
   "cell_type": "code",
   "execution_count": 38,
   "id": "33d80279-ba60-48c7-94d2-cbdb8f098995",
   "metadata": {},
   "outputs": [],
   "source": [
    "a = [3, 5, 9, 1, 2]"
   ]
  },
  {
   "cell_type": "code",
   "execution_count": 39,
   "id": "1bc4683e-ce32-4349-afa3-549c7825bfa8",
   "metadata": {},
   "outputs": [
    {
     "name": "stdout",
     "output_type": "stream",
     "text": [
      "[9, 9, 9, 9, 9]\n"
     ]
    }
   ],
   "source": [
    "m = a[0] # 최대값으로 배열값 바꾸기\n",
    "for k in range(1, len(a), 1) :\n",
    "    if m < a[k] :\n",
    "        m = a[k]\n",
    "for i in range(0, len(a), 1) :\n",
    "    a[i] = m\n",
    "print(a)"
   ]
  },
  {
   "cell_type": "code",
   "execution_count": 53,
   "id": "04e6138f-c4b1-4355-bc1a-260806bfb6b9",
   "metadata": {},
   "outputs": [],
   "source": [
    "a = [4, 3, 1, 5, 2]"
   ]
  },
  {
   "cell_type": "code",
   "execution_count": 54,
   "id": "70b762ff-8a2a-4b15-9ad0-301d49076a6f",
   "metadata": {},
   "outputs": [
    {
     "name": "stdout",
     "output_type": "stream",
     "text": [
      "[2, 5, 1, 3, 4]\n",
      "2\n"
     ]
    }
   ],
   "source": [
    "for k in range(0, (len(a) // 2), 1) : # 배열 리버스 하기\n",
    "        tmp = a[k]\n",
    "        a[k] = a[len(a) - 1 - k]\n",
    "        a[len(a) - 1 - k] = tmp\n",
    "print(a)\n",
    "print(len(a) // 2) "
   ]
  },
  {
   "cell_type": "code",
   "execution_count": null,
   "id": "9a7474db-61b2-4ca7-b0e1-fa9cfcd1cb22",
   "metadata": {},
   "outputs": [],
   "source": []
  }
 ],
 "metadata": {
  "kernelspec": {
   "display_name": "Python 3 (ipykernel)",
   "language": "python",
   "name": "python3"
  },
  "language_info": {
   "codemirror_mode": {
    "name": "ipython",
    "version": 3
   },
   "file_extension": ".py",
   "mimetype": "text/x-python",
   "name": "python",
   "nbconvert_exporter": "python",
   "pygments_lexer": "ipython3",
   "version": "3.13.5"
  }
 },
 "nbformat": 4,
 "nbformat_minor": 5
}
