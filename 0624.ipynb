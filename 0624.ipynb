{
 "cells": [
  {
   "cell_type": "code",
   "execution_count": 1,
   "id": "08db8ff5-fded-44b7-b83f-fb68a41f86d2",
   "metadata": {},
   "outputs": [],
   "source": [
    "# 프로그램 = 변수 + 함수\n",
    "# 변수도 이름이고 함수도 이름이다\n",
    "# 이름을 짓는 규칙이 존재한다"
   ]
  },
  {
   "cell_type": "code",
   "execution_count": 4,
   "id": "987ac32a-1182-4832-a5be-77f8bc963b4b",
   "metadata": {},
   "outputs": [],
   "source": [
    "abc = 100\n",
    "Abc = 200\n",
    "aBc = 300"
   ]
  },
  {
   "cell_type": "code",
   "execution_count": 5,
   "id": "a74195dd-4c69-42a0-bcd2-9586e397a222",
   "metadata": {},
   "outputs": [
    {
     "name": "stdout",
     "output_type": "stream",
     "text": [
      "100 200 300\n"
     ]
    }
   ],
   "source": [
    "print(abc, Abc, aBc)"
   ]
  },
  {
   "cell_type": "code",
   "execution_count": 6,
   "id": "9f0ca5a6-9980-4387-8638-65416bd98ccb",
   "metadata": {},
   "outputs": [],
   "source": [
    "# you + love + school 변수이름 조합\n",
    "youloveschool = 100\n",
    "youLoveSchool = 200 # Camel notation (낙타표기법)\n",
    "you_love_school = 300 # 특수문자 중 언더스코어만 사용가능"
   ]
  },
  {
   "cell_type": "code",
   "execution_count": 8,
   "id": "0e7a649f-1130-4f94-aa1f-11f3d764b5f5",
   "metadata": {},
   "outputs": [
    {
     "data": {
      "text/plain": [
       "['Abc',\n",
       " 'In',\n",
       " 'Out',\n",
       " '_',\n",
       " '_7',\n",
       " '__',\n",
       " '___',\n",
       " '__builtin__',\n",
       " '__builtins__',\n",
       " '__doc__',\n",
       " '__loader__',\n",
       " '__name__',\n",
       " '__package__',\n",
       " '__session__',\n",
       " '__spec__',\n",
       " '_dh',\n",
       " '_i',\n",
       " '_i1',\n",
       " '_i2',\n",
       " '_i3',\n",
       " '_i4',\n",
       " '_i5',\n",
       " '_i6',\n",
       " '_i7',\n",
       " '_i8',\n",
       " '_ih',\n",
       " '_ii',\n",
       " '_iii',\n",
       " '_oh',\n",
       " 'aBc',\n",
       " 'abc',\n",
       " 'exit',\n",
       " 'get_ipython',\n",
       " 'open',\n",
       " 'quit',\n",
       " 'youLoveSchool',\n",
       " 'you_love_school',\n",
       " 'youloveschool']"
      ]
     },
     "execution_count": 8,
     "metadata": {},
     "output_type": "execute_result"
    }
   ],
   "source": [
    "dir() #directory (목록)"
   ]
  },
  {
   "cell_type": "code",
   "execution_count": 9,
   "id": "0a64e3bc-bddb-49ef-8bc8-6ae81706c436",
   "metadata": {},
   "outputs": [],
   "source": [
    "_name = 'Hong'"
   ]
  },
  {
   "cell_type": "code",
   "execution_count": 11,
   "id": "91c3c97b-c86c-45da-b356-8078bcb81e45",
   "metadata": {},
   "outputs": [
    {
     "ename": "SyntaxError",
     "evalue": "invalid decimal literal (3683352723.py, line 1)",
     "output_type": "error",
     "traceback": [
      "  \u001b[36mCell\u001b[39m\u001b[36m \u001b[39m\u001b[32mIn[11]\u001b[39m\u001b[32m, line 1\u001b[39m\n\u001b[31m    \u001b[39m\u001b[31m1name = 'Hong' #이름 첫 글자 숫자 불가능\u001b[39m\n    ^\n\u001b[31mSyntaxError\u001b[39m\u001b[31m:\u001b[39m invalid decimal literal\n"
     ]
    }
   ],
   "source": [
    "1name = 'Hong' #이름 첫 글자 숫자 불가능 "
   ]
  },
  {
   "cell_type": "code",
   "execution_count": 13,
   "id": "a90ba1a5-a214-4981-98d1-c9d9d418ba36",
   "metadata": {},
   "outputs": [
    {
     "ename": "SyntaxError",
     "evalue": "invalid syntax (3189680084.py, line 1)",
     "output_type": "error",
     "traceback": [
      "  \u001b[36mCell\u001b[39m\u001b[36m \u001b[39m\u001b[32mIn[13]\u001b[39m\u001b[32m, line 1\u001b[39m\n\u001b[31m    \u001b[39m\u001b[31mif = 200 # 예약어는 이름으로 선언 불가능\u001b[39m\n       ^\n\u001b[31mSyntaxError\u001b[39m\u001b[31m:\u001b[39m invalid syntax\n"
     ]
    }
   ],
   "source": [
    "if = 200 # 예약어는 이름으로 선언 불가능"
   ]
  },
  {
   "cell_type": "code",
   "execution_count": 14,
   "id": "5ab1586d-0834-4288-9797-bdeb616949af",
   "metadata": {},
   "outputs": [],
   "source": [
    "# 데이터 구조 (data structure) : 서로 연관된 데이터를 하나로 묶어준다.\n",
    "# 객체기술을 이용해서 '나만의' 데이터구조를 만들 수 있지만 \n",
    "# 현재는 파이썬이 기본으로 제공하는 표준데이터 구조(std. data structure)를 활용한다.\n",
    "# List, Dictionary, Tuple, String의 4가지"
   ]
  },
  {
   "cell_type": "code",
   "execution_count": 15,
   "id": "5628e470-87f7-4379-8fc1-3b0e67a9c240",
   "metadata": {},
   "outputs": [],
   "source": [
    "a = [1, 2, 3, 4, 5, 6] #List"
   ]
  },
  {
   "cell_type": "code",
   "execution_count": 16,
   "id": "00ca5343-a3bf-4393-87b0-62b2a053ef14",
   "metadata": {},
   "outputs": [
    {
     "data": {
      "text/plain": [
       "list"
      ]
     },
     "execution_count": 16,
     "metadata": {},
     "output_type": "execute_result"
    }
   ],
   "source": [
    "type(a)"
   ]
  },
  {
   "cell_type": "code",
   "execution_count": 17,
   "id": "38f366f0-0d00-40e4-847a-17877c95db20",
   "metadata": {},
   "outputs": [
    {
     "name": "stdout",
     "output_type": "stream",
     "text": [
      "[1, 2, 3, 4, 5, 6]\n"
     ]
    }
   ],
   "source": [
    "print(a)"
   ]
  },
  {
   "cell_type": "code",
   "execution_count": 18,
   "id": "fc20b551-99ad-4bab-adbe-ce544f9169ff",
   "metadata": {},
   "outputs": [],
   "source": [
    "# item (항목)은 List이름[인덱스] : a[3] 인덱스는 n-1 "
   ]
  },
  {
   "cell_type": "code",
   "execution_count": 19,
   "id": "c76d9e2a-cda3-4d6b-b7dd-05411918ab39",
   "metadata": {},
   "outputs": [],
   "source": [
    "a = [3, 5, 1, 2, 8, 5, 4]"
   ]
  },
  {
   "cell_type": "code",
   "execution_count": 20,
   "id": "9986dd8d-16b2-4d1e-8738-3948fc1dd3ad",
   "metadata": {},
   "outputs": [
    {
     "name": "stdout",
     "output_type": "stream",
     "text": [
      "[3, 5, 1, 2, 8, 5, 4]\n"
     ]
    }
   ],
   "source": [
    "print(a)"
   ]
  },
  {
   "cell_type": "code",
   "execution_count": 21,
   "id": "f805c834-8b9a-4896-a2ff-f9b47ba8fc69",
   "metadata": {},
   "outputs": [
    {
     "name": "stdout",
     "output_type": "stream",
     "text": [
      "3\n"
     ]
    }
   ],
   "source": [
    "print(a[0])"
   ]
  },
  {
   "cell_type": "code",
   "execution_count": 24,
   "id": "2c3eff4f-9135-43fc-97d6-2c3fb729c241",
   "metadata": {},
   "outputs": [
    {
     "data": {
      "text/plain": [
       "5"
      ]
     },
     "execution_count": 24,
     "metadata": {},
     "output_type": "execute_result"
    }
   ],
   "source": [
    "a[5]"
   ]
  },
  {
   "cell_type": "code",
   "execution_count": 25,
   "id": "064c87a0-6978-4dab-bb4f-c9f34202d51b",
   "metadata": {},
   "outputs": [
    {
     "data": {
      "text/plain": [
       "1"
      ]
     },
     "execution_count": 25,
     "metadata": {},
     "output_type": "execute_result"
    }
   ],
   "source": [
    "a[2]"
   ]
  },
  {
   "cell_type": "code",
   "execution_count": 26,
   "id": "127b8f4f-25a5-4a46-bd66-72b0979db260",
   "metadata": {},
   "outputs": [],
   "source": [
    "a[3] = 64"
   ]
  },
  {
   "cell_type": "code",
   "execution_count": 27,
   "id": "5f2508ed-8bc0-4726-acf0-dded94e77a1d",
   "metadata": {},
   "outputs": [
    {
     "data": {
      "text/plain": [
       "[3, 5, 1, 64, 8, 5, 4]"
      ]
     },
     "execution_count": 27,
     "metadata": {},
     "output_type": "execute_result"
    }
   ],
   "source": [
    "a"
   ]
  },
  {
   "cell_type": "code",
   "execution_count": 28,
   "id": "b3a1e6c9-436b-4269-aa00-5ba1807e0d19",
   "metadata": {},
   "outputs": [],
   "source": [
    "k = 3\n",
    "a[k + 2] = 1000 # 인덱스에 변수(수식)가 들어갈 수 있다. ★Powerful"
   ]
  },
  {
   "cell_type": "code",
   "execution_count": 29,
   "id": "58dd06aa-fa1c-4193-8ac9-770981a2d431",
   "metadata": {},
   "outputs": [
    {
     "data": {
      "text/plain": [
       "[3, 5, 1, 64, 8, 1000, 4]"
      ]
     },
     "execution_count": 29,
     "metadata": {},
     "output_type": "execute_result"
    }
   ],
   "source": [
    "a"
   ]
  },
  {
   "cell_type": "code",
   "execution_count": 42,
   "id": "eec12ac2-e9c9-4397-ad43-f24de48f7c8a",
   "metadata": {},
   "outputs": [],
   "source": [
    "# Dictionary : {a : 1, b : 2, c : 3, d : 4} 키-값 쌍으로 이루어져 있다 (Key-Value Pair)"
   ]
  },
  {
   "cell_type": "code",
   "execution_count": 43,
   "id": "2665f2da-c155-4124-a5de-1fb913310d00",
   "metadata": {},
   "outputs": [],
   "source": [
    "a = ['Kim', '010-1234-5678', 'Cheonan']"
   ]
  },
  {
   "cell_type": "code",
   "execution_count": 44,
   "id": "0a1ed7e9-2ef5-44f6-9e20-dea24fe4dff6",
   "metadata": {},
   "outputs": [
    {
     "data": {
      "text/plain": [
       "'010-1234-5678'"
      ]
     },
     "execution_count": 44,
     "metadata": {},
     "output_type": "execute_result"
    }
   ],
   "source": [
    "a[1]"
   ]
  },
  {
   "cell_type": "code",
   "execution_count": 45,
   "id": "885f4cc4-9c37-491b-aeb9-04489f17dcde",
   "metadata": {},
   "outputs": [],
   "source": [
    "a = {'name' : 'Kim', '전화번호' : '010-1234-5678', '주소' : 'Cheonan'}"
   ]
  },
  {
   "cell_type": "code",
   "execution_count": 46,
   "id": "acf7d7a3-56e3-4ae8-920d-209372b74eb6",
   "metadata": {},
   "outputs": [
    {
     "data": {
      "text/plain": [
       "{'name': 'Kim', '전화번호': '010-1234-5678', '주소': 'Cheonan'}"
      ]
     },
     "execution_count": 46,
     "metadata": {},
     "output_type": "execute_result"
    }
   ],
   "source": [
    "a"
   ]
  },
  {
   "cell_type": "code",
   "execution_count": 49,
   "id": "b331f2f8-0d03-4b10-8058-82384d4ddb4d",
   "metadata": {},
   "outputs": [],
   "source": [
    "a['주소'] = '서울'"
   ]
  },
  {
   "cell_type": "code",
   "execution_count": 50,
   "id": "4530fe88-c447-4be4-99ca-b0dec400f6ac",
   "metadata": {},
   "outputs": [
    {
     "data": {
      "text/plain": [
       "{'name': 'Kim', '전화번호': '010-1234-5678', '주소': '서울'}"
      ]
     },
     "execution_count": 50,
     "metadata": {},
     "output_type": "execute_result"
    }
   ],
   "source": [
    "a"
   ]
  },
  {
   "cell_type": "code",
   "execution_count": 51,
   "id": "c66394f2-64bd-4fdc-b62b-95cc6655e130",
   "metadata": {},
   "outputs": [],
   "source": [
    "a = (3, 4, 5, 6, 1, 2) #Tuple은 바꿀 수 없는 List "
   ]
  },
  {
   "cell_type": "code",
   "execution_count": 52,
   "id": "718a37fe-54bc-4be2-a52a-c85aa9347e0f",
   "metadata": {},
   "outputs": [
    {
     "data": {
      "text/plain": [
       "(3, 4, 5, 6, 1, 2)"
      ]
     },
     "execution_count": 52,
     "metadata": {},
     "output_type": "execute_result"
    }
   ],
   "source": [
    "a"
   ]
  },
  {
   "cell_type": "code",
   "execution_count": 56,
   "id": "06ef3232-a39d-460f-baae-baafa8b6e43d",
   "metadata": {},
   "outputs": [],
   "source": [
    "a = (100, 200, 300)"
   ]
  },
  {
   "cell_type": "code",
   "execution_count": 57,
   "id": "f3b356a8-ccad-4973-99f8-a3ab5eff6b9f",
   "metadata": {},
   "outputs": [],
   "source": [
    "# 반복 : For★★★★★★★★(~에 대해서), While (~하는 동안) "
   ]
  },
  {
   "cell_type": "code",
   "execution_count": 60,
   "id": "dfca28e3-0a9b-4a18-be83-d6c6f77fc7a9",
   "metadata": {},
   "outputs": [
    {
     "name": "stdout",
     "output_type": "stream",
     "text": [
      "4\n",
      "5\n",
      "6\n",
      "1\n",
      "2\n"
     ]
    }
   ],
   "source": [
    "for x in [4, 5, 6, 1, 2] : # for문장의 형태 for 변수(반복자[iterator]) in List \n",
    "    print(x)                    # block (문장(들))"
   ]
  },
  {
   "cell_type": "code",
   "execution_count": 61,
   "id": "854bc2e2-00fa-4448-b39d-373c13d8f7f2",
   "metadata": {},
   "outputs": [
    {
     "name": "stdout",
     "output_type": "stream",
     "text": [
      "포도\n",
      "자두\n",
      "수박\n",
      "망고\n"
     ]
    }
   ],
   "source": [
    "for x in ['포도', '자두', '수박', '망고'] :\n",
    "    print(x)"
   ]
  },
  {
   "cell_type": "code",
   "execution_count": 81,
   "id": "afae9d57-60ad-449b-a071-490a8b76b273",
   "metadata": {},
   "outputs": [],
   "source": [
    "a = [93, 85, 74, 99, 80] #100점 척도 30점 척도로 바꾸기 \n",
    "for x in a :\n",
    "    x = x * 0.3 #반복자는 바꿀 수가 없다. (엉망이 된다)"
   ]
  },
  {
   "cell_type": "code",
   "execution_count": 82,
   "id": "a9d1c95b-69e2-40f1-872a-03316a259a52",
   "metadata": {},
   "outputs": [
    {
     "data": {
      "text/plain": [
       "[93, 85, 74, 99, 80]"
      ]
     },
     "execution_count": 82,
     "metadata": {},
     "output_type": "execute_result"
    }
   ],
   "source": [
    "a"
   ]
  },
  {
   "cell_type": "code",
   "execution_count": 83,
   "id": "f1208314-2ccb-446a-8e59-253e542b381b",
   "metadata": {},
   "outputs": [],
   "source": [
    "for k in [0, 1, 2, 3, 4] : #인덱스 기반 참조 (유용함)\n",
    "    a[k] = a[k] * 0.3 "
   ]
  },
  {
   "cell_type": "code",
   "execution_count": 84,
   "id": "02854297-3524-4088-b3bc-1834fef26d3c",
   "metadata": {},
   "outputs": [
    {
     "data": {
      "text/plain": [
       "[27.9, 25.5, 22.2, 29.7, 24.0]"
      ]
     },
     "execution_count": 84,
     "metadata": {},
     "output_type": "execute_result"
    }
   ],
   "source": [
    "a"
   ]
  },
  {
   "cell_type": "code",
   "execution_count": 110,
   "id": "491e74fc-9666-4520-941a-3d75e627aa8e",
   "metadata": {},
   "outputs": [],
   "source": [
    "a = [3, 4, 5, 6, 1, 23, 54, 66, 356, 7, 12, 3, 7, 88, 89, 76, 123, 55, 778, 125, 951, 496]"
   ]
  },
  {
   "cell_type": "code",
   "execution_count": 113,
   "id": "e3391b76-2aed-4735-8117-840d9f9811fe",
   "metadata": {},
   "outputs": [
    {
     "name": "stdout",
     "output_type": "stream",
     "text": [
      "3 4 5 6 1 23 54 66 356 7 12 3 7 88 89 76 123 55 778 125 951 496 "
     ]
    }
   ],
   "source": [
    "for k in range(0, len(a), 1) :\n",
    "    print(a[k], end = ' ')"
   ]
  },
  {
   "cell_type": "code",
   "execution_count": 104,
   "id": "cae3f79b-09d5-4e59-89ca-14a2a0885274",
   "metadata": {},
   "outputs": [
    {
     "data": {
      "text/plain": [
       "\u001b[31mInit signature:\u001b[39m range(self, /, *args, **kwargs)\n",
       "\u001b[31mDocstring:\u001b[39m     \n",
       "range(stop) -> range object\n",
       "range(start, stop[, step]) -> range object\n",
       "\n",
       "Return an object that produces a sequence of integers from start (inclusive)\n",
       "to stop (exclusive) by step.  range(i, j) produces i, i+1, i+2, ..., j-1.\n",
       "start defaults to 0, and stop is omitted!  range(4) produces 0, 1, 2, 3.\n",
       "These are exactly the valid indices for a list of 4 elements.\n",
       "When step is given, it specifies the increment (or decrement).\n",
       "\u001b[31mType:\u001b[39m           type\n",
       "\u001b[31mSubclasses:\u001b[39m     "
      ]
     },
     "metadata": {},
     "output_type": "display_data"
    }
   ],
   "source": [
    "range?"
   ]
  },
  {
   "cell_type": "code",
   "execution_count": 111,
   "id": "c5e162fd-63fe-4d56-88ad-ccfe9a613252",
   "metadata": {},
   "outputs": [
    {
     "data": {
      "text/plain": [
       "22"
      ]
     },
     "execution_count": 111,
     "metadata": {},
     "output_type": "execute_result"
    }
   ],
   "source": [
    "len(a) # a의 길이 (lenth) 알려줘"
   ]
  },
  {
   "cell_type": "code",
   "execution_count": 135,
   "id": "ca7b04b4-e4e9-4b14-8de7-c2fa7af54735",
   "metadata": {},
   "outputs": [
    {
     "name": "stdout",
     "output_type": "stream",
     "text": [
      "1 2 3 4 5 6 7 8 9 10 13 15 16 17 2 7 3 7 5 7 8 4 8 5 4 3 2 1 34 6 7 8 92 3 5 6 2346 236 99 "
     ]
    }
   ],
   "source": [
    "a  = [1, 2, 3, 4, 5, 6, 7, 8, 9, 10, 13, 15, 16, 17, 2, 7, 3, 7, 5, 7, 8, 4, 8, 5, 4, 3, 2, 1, 34, 6, 7, 8, 92, 3, 5, 6, 2346, 236, 99]\n",
    "for k in range(0, len(a), 1) :\n",
    "    print(a[k], end = ' ')"
   ]
  },
  {
   "cell_type": "code",
   "execution_count": 132,
   "id": "b2d59e99-dc42-4fac-ad21-67941329cb31",
   "metadata": {},
   "outputs": [
    {
     "name": "stdout",
     "output_type": "stream",
     "text": [
      "3 5 7 9 11 13 15 "
     ]
    }
   ],
   "source": [
    "for k in range(3, 17, 2) :\n",
    "    print(k, end = ' ')"
   ]
  },
  {
   "cell_type": "code",
   "execution_count": 133,
   "id": "e7aa22ce-9558-48cd-98a6-ff5c27cda85c",
   "metadata": {},
   "outputs": [
    {
     "name": "stdout",
     "output_type": "stream",
     "text": [
      "10 15 20 25 30 35 "
     ]
    }
   ],
   "source": [
    "for k in range(10, 40, 5) : \n",
    "    print(k, end = ' ')"
   ]
  },
  {
   "cell_type": "code",
   "execution_count": 134,
   "id": "f2735c54-5fc3-4396-b66e-1fc417ba792c",
   "metadata": {},
   "outputs": [
    {
     "name": "stdout",
     "output_type": "stream",
     "text": [
      "100 90 80 70 60 "
     ]
    }
   ],
   "source": [
    "for k in range(100, 50, -10) : \n",
    "    print(k, end = ' ')"
   ]
  },
  {
   "cell_type": "code",
   "execution_count": 129,
   "id": "d50ac28e-bebc-4ae1-9058-9bd955e37884",
   "metadata": {},
   "outputs": [
    {
     "name": "stdout",
     "output_type": "stream",
     "text": [
      "5 4 3 2 1 0 -1 "
     ]
    }
   ],
   "source": [
    "for k in range(5, -2, -1) : \n",
    "    print(k, end = ' ')"
   ]
  },
  {
   "cell_type": "code",
   "execution_count": 130,
   "id": "aea40dd2-fa7c-4079-8258-86104d7377b0",
   "metadata": {},
   "outputs": [
    {
     "name": "stdout",
     "output_type": "stream",
     "text": [
      "-1 -2 -3 -4 -5 "
     ]
    }
   ],
   "source": [
    "for k in range(-1, -6, -1) :\n",
    "    print(k, end = ' ')"
   ]
  },
  {
   "cell_type": "code",
   "execution_count": 150,
   "id": "0d34ea65-bc03-49b9-97fb-8c60c3c5ae3a",
   "metadata": {},
   "outputs": [],
   "source": [
    "a = [50, 3, 9, 7, 99, 213, 55, 3321, 33]"
   ]
  },
  {
   "cell_type": "code",
   "execution_count": 155,
   "id": "07d70814-9548-4ad3-8199-df5b6d53f141",
   "metadata": {},
   "outputs": [
    {
     "name": "stdout",
     "output_type": "stream",
     "text": [
      "max = 3321\n"
     ]
    }
   ],
   "source": [
    "m = a[0] #데이터의 최대값 찾는 알고리즘 \n",
    "for k in range(1, len(a), 1) :\n",
    "    if m < a[k] : # k = 1, 2, 3, 4 \n",
    "        m = a[k]\n",
    "print('max =', m)"
   ]
  },
  {
   "cell_type": "code",
   "execution_count": 154,
   "id": "e7ef2b88-8572-42f7-ab3f-2fa63a26a2a7",
   "metadata": {},
   "outputs": [
    {
     "name": "stdout",
     "output_type": "stream",
     "text": [
      "min =  3\n"
     ]
    }
   ],
   "source": [
    "m = a[0] #최솟값도 되겠는데? (연습)\n",
    "for k in range(1, len(a), 1) : \n",
    "    if m > a[k] :\n",
    "        m = a[k]\n",
    "print('min = ', m)"
   ]
  },
  {
   "cell_type": "code",
   "execution_count": 157,
   "id": "840c4979-adf0-4fc4-b268-723e3f57ad1d",
   "metadata": {},
   "outputs": [],
   "source": [
    "a = [1, 2, 3, 4, 5, 6, 7, 8, 9, 10]"
   ]
  },
  {
   "cell_type": "code",
   "execution_count": 160,
   "id": "a2d35b90-2c73-454c-a100-ae397dfe0589",
   "metadata": {},
   "outputs": [
    {
     "name": "stdout",
     "output_type": "stream",
     "text": [
      "sum =  55\n"
     ]
    }
   ],
   "source": [
    "s = 0 #데이터의 합 구하는 알고리즘\n",
    "for k in range(0, len(a), 1) : \n",
    "    s = s + a[k]\n",
    "print('sum = ', s)"
   ]
  },
  {
   "cell_type": "code",
   "execution_count": 161,
   "id": "7cd20349-147f-4249-86ee-57cc72f62891",
   "metadata": {},
   "outputs": [
    {
     "name": "stdout",
     "output_type": "stream",
     "text": [
      "dif = 45\n"
     ]
    }
   ],
   "source": [
    "s = 100 #차도 되겠는데? (연습)\n",
    "for k in range(0, len(a), 1) : \n",
    "    s = s - a[k]\n",
    "print('dif =', s)"
   ]
  },
  {
   "cell_type": "code",
   "execution_count": 162,
   "id": "bde32253-c5cd-41f6-8269-64fe6e45996f",
   "metadata": {},
   "outputs": [
    {
     "name": "stdout",
     "output_type": "stream",
     "text": [
      "pro = 3628800\n"
     ]
    }
   ],
   "source": [
    "s = a[0] #곱도 되겠다 (연습)\n",
    "for k in range(1, len(a), 1) : \n",
    "    s = s * a[k]\n",
    "print('pro =', s)"
   ]
  },
  {
   "cell_type": "code",
   "execution_count": 2,
   "id": "dd44eedf-7399-4446-b2f8-76713082c912",
   "metadata": {},
   "outputs": [],
   "source": [
    "a = [3, 4, 5, 4, 4, 5, 3, 5, 4, 6, 4, 5, 3] "
   ]
  },
  {
   "cell_type": "code",
   "execution_count": 3,
   "id": "d9a158ee-24c8-474b-a750-c88b9baa999d",
   "metadata": {},
   "outputs": [
    {
     "name": "stdout",
     "output_type": "stream",
     "text": [
      "mean = 4.23\n",
      "12\n"
     ]
    }
   ],
   "source": [
    "m = 0 # 평균 구하기 (데이터 합의 응용)\n",
    "for k in range(0, len(a), 1) :\n",
    "    m = (m + a[k])\n",
    "    n = m / len(a)\n",
    "print('mean =', round(n, 2))\n",
    "print(k)"
   ]
  },
  {
   "cell_type": "code",
   "execution_count": 187,
   "id": "17c55ac6-ed81-4f40-a93b-07b4774e9b8b",
   "metadata": {},
   "outputs": [
    {
     "data": {
      "text/plain": [
       "\u001b[31mSignature:\u001b[39m round(number, ndigits=\u001b[38;5;28;01mNone\u001b[39;00m)\n",
       "\u001b[31mDocstring:\u001b[39m\n",
       "Round a number to a given precision in decimal digits.\n",
       "\n",
       "The return value is an integer if ndigits is omitted or None.  Otherwise\n",
       "the return value has the same type as the number.  ndigits may be negative.\n",
       "\u001b[31mType:\u001b[39m      builtin_function_or_method"
      ]
     },
     "metadata": {},
     "output_type": "display_data"
    }
   ],
   "source": [
    "round?"
   ]
  },
  {
   "cell_type": "code",
   "execution_count": 188,
   "id": "42bca8d2-f4ec-42d6-9382-de928179de2c",
   "metadata": {},
   "outputs": [
    {
     "data": {
      "text/plain": [
       "1.33"
      ]
     },
     "execution_count": 188,
     "metadata": {},
     "output_type": "execute_result"
    }
   ],
   "source": [
    "round(1.333333, 2) # 반올림 해주는 함수"
   ]
  },
  {
   "cell_type": "code",
   "execution_count": 254,
   "id": "04dda470-3d68-48e3-a8b1-ed65ff862835",
   "metadata": {},
   "outputs": [],
   "source": [
    "a = [2, 3, 3, 4, 4, 4, 5, 5, 6] "
   ]
  },
  {
   "cell_type": "code",
   "execution_count": 255,
   "id": "20f4adba-c237-48bd-945a-0cebc540f5f7",
   "metadata": {},
   "outputs": [
    {
     "name": "stdout",
     "output_type": "stream",
     "text": [
      "variance = 1.5\n",
      "deviation = 1.224744871391589\n"
     ]
    }
   ],
   "source": [
    "s = 0 # 분산과 표준편차 구하기 (데이터의 합 응용)\n",
    "for k in range(0, len(a), 1) :\n",
    "    s = s + a[k] #합 구하기\n",
    "    m = s / len(a) # 평균 구하기\n",
    "\n",
    "s = 0\n",
    "for k in range(0, len(a), 1) : \n",
    "    s = s + (a[k] - m) ** 2 # 제곱합 구하기 (SS, sum of squares)\n",
    "\n",
    "v = s / (len(a)-1) # 분산 (자유도 n-1 degree of freedom(dof)로 제곱합 나누기)\n",
    "print('variance =', v)\n",
    "d = math.sqrt(v)\n",
    "print('deviation =', d)"
   ]
  },
  {
   "cell_type": "code",
   "execution_count": 225,
   "id": "cdac1eb1-2fe5-4e1c-88d5-efd619f491dd",
   "metadata": {},
   "outputs": [],
   "source": [
    "# math 모듈 "
   ]
  },
  {
   "cell_type": "code",
   "execution_count": 226,
   "id": "1a946a85-10ca-4c0e-9346-092a7d148809",
   "metadata": {},
   "outputs": [],
   "source": [
    "import math"
   ]
  },
  {
   "cell_type": "code",
   "execution_count": 229,
   "id": "63a05f07-dee9-4362-92fb-0a09f15e472b",
   "metadata": {},
   "outputs": [
    {
     "data": {
      "text/plain": [
       "module"
      ]
     },
     "execution_count": 229,
     "metadata": {},
     "output_type": "execute_result"
    }
   ],
   "source": [
    "type(math)"
   ]
  },
  {
   "cell_type": "code",
   "execution_count": 231,
   "id": "33d8f0aa-842b-4173-9808-b041f50d80bf",
   "metadata": {},
   "outputs": [
    {
     "name": "stdout",
     "output_type": "stream",
     "text": [
      "['__doc__', '__loader__', '__name__', '__package__', '__spec__', 'acos', 'acosh', 'asin', 'asinh', 'atan', 'atan2', 'atanh', 'cbrt', 'ceil', 'comb', 'copysign', 'cos', 'cosh', 'degrees', 'dist', 'e', 'erf', 'erfc', 'exp', 'exp2', 'expm1', 'fabs', 'factorial', 'floor', 'fma', 'fmod', 'frexp', 'fsum', 'gamma', 'gcd', 'hypot', 'inf', 'isclose', 'isfinite', 'isinf', 'isnan', 'isqrt', 'lcm', 'ldexp', 'lgamma', 'log', 'log10', 'log1p', 'log2', 'modf', 'nan', 'nextafter', 'perm', 'pi', 'pow', 'prod', 'radians', 'remainder', 'sin', 'sinh', 'sqrt', 'sumprod', 'tan', 'tanh', 'tau', 'trunc', 'ulp']\n"
     ]
    }
   ],
   "source": [
    "print(dir(math))"
   ]
  },
  {
   "cell_type": "code",
   "execution_count": 233,
   "id": "1af28cd4-3a62-478c-9742-eda8a193c6ac",
   "metadata": {},
   "outputs": [
    {
     "data": {
      "text/plain": [
       "\u001b[31mSignature:\u001b[39m math.sqrt(x, /)\n",
       "\u001b[31mDocstring:\u001b[39m Return the square root of x.\n",
       "\u001b[31mType:\u001b[39m      builtin_function_or_method"
      ]
     },
     "metadata": {},
     "output_type": "display_data"
    }
   ],
   "source": [
    "math.sqrt?"
   ]
  },
  {
   "cell_type": "code",
   "execution_count": 234,
   "id": "88ec2622-5928-4292-b06d-6a56e9eb7180",
   "metadata": {},
   "outputs": [
    {
     "data": {
      "text/plain": [
       "1.4142135623730951"
      ]
     },
     "execution_count": 234,
     "metadata": {},
     "output_type": "execute_result"
    }
   ],
   "source": [
    "math.sqrt(2)"
   ]
  },
  {
   "cell_type": "code",
   "execution_count": 256,
   "id": "12fe2574-b284-4195-a275-d5e7ad902c7c",
   "metadata": {},
   "outputs": [
    {
     "name": "stdout",
     "output_type": "stream",
     "text": [
      "variance = 1.5\n",
      "deviation = 1.224744871391589\n"
     ]
    }
   ],
   "source": [
    "s = 0 # 분산과 표준편차 구하기 응용 반복문 하나만 사용하기 (공식 변환) (데이터의 합 응용)\n",
    "sq = 0\n",
    "for k in range(0, len(a), 1) :\n",
    "    s = s + a[k] #합 구하기\n",
    "    m = s / len(a) # 평균 구하기\n",
    "    sq = sq + a[k] ** 2 # 제곱합 구하기 (SS, sum of squares)\n",
    "    v = (sq - (len(a) * m ** 2))/(len(a) - 1) # 분산 (자유도 n-1 degree of freedom(dof)로 제곱합 나누기)\n",
    "print('variance =', round(v, 2))\n",
    "d = math.sqrt(v)\n",
    "print('deviation =', d)"
   ]
  },
  {
   "cell_type": "code",
   "execution_count": 2,
   "id": "919ed0b6-2f12-4fe7-b816-e246b2367d17",
   "metadata": {},
   "outputs": [],
   "source": [
    "a = [1, 5, 3, 3, 4, 2, 4, 1, 7] "
   ]
  },
  {
   "cell_type": "code",
   "execution_count": 258,
   "id": "1db68a6f-22ab-4880-9637-7bd6444ec815",
   "metadata": {},
   "outputs": [
    {
     "name": "stdout",
     "output_type": "stream",
     "text": [
      "variance = 3.75\n",
      "deviation = 1.9364916731037085\n"
     ]
    }
   ],
   "source": [
    "s = 0 #분산 구하기 연습 \n",
    "for k in range(0, len(a), 1) :\n",
    "    s = s + a[k]\n",
    "    m = s / len(a)\n",
    "\n",
    "ss = 0\n",
    "for k in range(0, len(a), 1) : \n",
    "    ss = ss + (a[k] - m) ** 2\n",
    "    v = ss / (len(a) - 1) \n",
    "    d = math.sqrt(v)\n",
    "\n",
    "print('variance =', v)\n",
    "print('deviation =', d)"
   ]
  },
  {
   "cell_type": "code",
   "execution_count": null,
   "id": "cf12f43a-c1d3-4331-88bb-36c7e5b3ea54",
   "metadata": {},
   "outputs": [],
   "source": []
  }
 ],
 "metadata": {
  "kernelspec": {
   "display_name": "Python 3 (ipykernel)",
   "language": "python",
   "name": "python3"
  },
  "language_info": {
   "codemirror_mode": {
    "name": "ipython",
    "version": 3
   },
   "file_extension": ".py",
   "mimetype": "text/x-python",
   "name": "python",
   "nbconvert_exporter": "python",
   "pygments_lexer": "ipython3",
   "version": "3.13.5"
  }
 },
 "nbformat": 4,
 "nbformat_minor": 5
}
