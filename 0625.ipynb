{
 "cells": [
  {
   "cell_type": "code",
   "execution_count": 1,
   "id": "2299d305-246c-4ac4-9fab-5423b96652e9",
   "metadata": {},
   "outputs": [
    {
     "name": "stdout",
     "output_type": "stream",
     "text": [
      "max = 7\n"
     ]
    }
   ],
   "source": [
    "# 최대값구하기 (복습)\n",
    "a = [5, 6, 7, 1, 2, 3]\n",
    "\n",
    "m = a[0]\n",
    "for k in range(1, len(a), 1) :\n",
    "    if (a[k] > m) :\n",
    "        m = a[k]\n",
    "print('max =', m)"
   ]
  },
  {
   "cell_type": "code",
   "execution_count": 2,
   "id": "09bb1a5a-f608-4982-a82e-84dd2021d804",
   "metadata": {},
   "outputs": [
    {
     "name": "stdout",
     "output_type": "stream",
     "text": [
      "sum = 21\n"
     ]
    }
   ],
   "source": [
    "# 합 구하기 (복습)\n",
    "a = [4, 5, 6, 1, 2, 3]\n",
    "\n",
    "s=0\n",
    "for k in range(0, len(a), 1) : \n",
    "    s = (s + a[k])\n",
    "print('sum =', s)"
   ]
  },
  {
   "cell_type": "code",
   "execution_count": 8,
   "id": "aa58e750-7f2e-4186-89db-dca9ec485f7b",
   "metadata": {},
   "outputs": [
    {
     "name": "stdout",
     "output_type": "stream",
     "text": [
      "count of 1 = 5\n"
     ]
    }
   ],
   "source": [
    "# 데이터 개수 구하기 (복습)\n",
    "a = [1, 2, 0, 0, 1, 2, 0, 1, 2, 0, 1, 0, 0, 0, 1]\n",
    "b = 1 # parameter -> 함수에서 중요한 역할\n",
    "\n",
    "c = 0\n",
    "for k in range (0, len(a), 1) : \n",
    "    if a[k] == b :\n",
    "        c = c + 1\n",
    "print('count of', b, '=', c)"
   ]
  },
  {
   "cell_type": "code",
   "execution_count": 19,
   "id": "d35b6d3f-528c-4038-9f11-73649aa7059c",
   "metadata": {},
   "outputs": [],
   "source": [
    "def myPrint() :           #def : define (정의한다)\n",
    "    print(1)\n",
    "    print(2)\n",
    "    print(3)\n",
    "    return"
   ]
  },
  {
   "cell_type": "code",
   "execution_count": 10,
   "id": "fb10367a-687c-4d45-9e54-5222f91a69a4",
   "metadata": {},
   "outputs": [
    {
     "data": {
      "text/plain": [
       "['In',\n",
       " 'Out',\n",
       " '_',\n",
       " '__',\n",
       " '___',\n",
       " '__builtin__',\n",
       " '__builtins__',\n",
       " '__doc__',\n",
       " '__loader__',\n",
       " '__name__',\n",
       " '__package__',\n",
       " '__session__',\n",
       " '__spec__',\n",
       " '_dh',\n",
       " '_i',\n",
       " '_i1',\n",
       " '_i10',\n",
       " '_i2',\n",
       " '_i3',\n",
       " '_i4',\n",
       " '_i5',\n",
       " '_i6',\n",
       " '_i7',\n",
       " '_i8',\n",
       " '_i9',\n",
       " '_ih',\n",
       " '_ii',\n",
       " '_iii',\n",
       " '_oh',\n",
       " 'a',\n",
       " 'b',\n",
       " 'c',\n",
       " 'exit',\n",
       " 'get_ipython',\n",
       " 'k',\n",
       " 'm',\n",
       " 'myPrint',\n",
       " 'open',\n",
       " 'quit',\n",
       " 's']"
      ]
     },
     "execution_count": 10,
     "metadata": {},
     "output_type": "execute_result"
    }
   ],
   "source": [
    "dir() #directory "
   ]
  },
  {
   "cell_type": "code",
   "execution_count": 11,
   "id": "6dcc53bc-0902-4a49-8483-9f763ca66b2c",
   "metadata": {},
   "outputs": [
    {
     "data": {
      "text/plain": [
       "function"
      ]
     },
     "execution_count": 11,
     "metadata": {},
     "output_type": "execute_result"
    }
   ],
   "source": [
    "type(myPrint)"
   ]
  },
  {
   "cell_type": "code",
   "execution_count": 12,
   "id": "ffa927fa-fe22-4e79-8232-d09998a00343",
   "metadata": {},
   "outputs": [],
   "source": [
    "# 함수가 정의되어 있으면 , 함수를 호출(call, invoke)할 수 있다. \n",
    "# 호출 : 운영체제(파이썬 virtual machine)에게 우리 함수를 실행해줘~ 라고 요청하는 것이다."
   ]
  },
  {
   "cell_type": "code",
   "execution_count": 16,
   "id": "1791f451-f0ef-4e7f-a235-777dda294736",
   "metadata": {},
   "outputs": [
    {
     "name": "stdout",
     "output_type": "stream",
     "text": [
      "1\n",
      "2\n",
      "3\n"
     ]
    }
   ],
   "source": [
    "myPrint() #함수의 정의(definition)와 호출(call, invocation) #변수의 할당(assignment)과 참조(reference)"
   ]
  },
  {
   "cell_type": "code",
   "execution_count": 17,
   "id": "0382637d-3ccd-4f05-a07d-e1508a4f9a1e",
   "metadata": {},
   "outputs": [],
   "source": [
    "# 하나의 소프트웨어는 여러개의 함수로 구성되어있다. "
   ]
  },
  {
   "cell_type": "code",
   "execution_count": 18,
   "id": "363db370-e9e6-45c7-b1f2-d0f2691fd810",
   "metadata": {},
   "outputs": [
    {
     "name": "stdout",
     "output_type": "stream",
     "text": [
      "0\n",
      "1\n",
      "2\n",
      "3\n",
      "4\n"
     ]
    }
   ],
   "source": [
    "print(0)\n",
    "myPrint()\n",
    "print(4)"
   ]
  },
  {
   "cell_type": "code",
   "execution_count": 24,
   "id": "096c252c-aadc-4ac5-b4e2-cb5c13efe9e7",
   "metadata": {},
   "outputs": [],
   "source": [
    "def f(a) :\n",
    "    # a = 1 명령문이 자동적으로 숨겨져서 (hidden) 수행된다. \n",
    "    print('in =', a)\n",
    "    return"
   ]
  },
  {
   "cell_type": "code",
   "execution_count": 25,
   "id": "02ca239a-85a3-4493-bfa6-cecd96807b58",
   "metadata": {},
   "outputs": [
    {
     "name": "stdout",
     "output_type": "stream",
     "text": [
      "in = 3\n"
     ]
    }
   ],
   "source": [
    "f(3)"
   ]
  },
  {
   "cell_type": "code",
   "execution_count": 28,
   "id": "95242139-0ab0-4c7d-a59c-f1bfc7876e82",
   "metadata": {},
   "outputs": [],
   "source": [
    "def g(id_, pw) : \n",
    "    # id_ = 'kim', pw = '1111' 자동적으로 실행된다. \n",
    "    print(id_, pw)\n",
    "    return"
   ]
  },
  {
   "cell_type": "code",
   "execution_count": 33,
   "id": "7a92440a-3bb0-4719-a301-975059eac18e",
   "metadata": {},
   "outputs": [
    {
     "ename": "TypeError",
     "evalue": "g() takes 2 positional arguments but 3 were given",
     "output_type": "error",
     "traceback": [
      "\u001b[31m---------------------------------------------------------------------------\u001b[39m",
      "\u001b[31mTypeError\u001b[39m                                 Traceback (most recent call last)",
      "\u001b[36mCell\u001b[39m\u001b[36m \u001b[39m\u001b[32mIn[33]\u001b[39m\u001b[32m, line 1\u001b[39m\n\u001b[32m----> \u001b[39m\u001b[32m1\u001b[39m \u001b[43mg\u001b[49m\u001b[43m(\u001b[49m\u001b[33;43m'\u001b[39;49m\u001b[33;43mkim\u001b[39;49m\u001b[33;43m'\u001b[39;49m\u001b[43m,\u001b[49m\u001b[43m \u001b[49m\u001b[33;43m'\u001b[39;49m\u001b[33;43m1111\u001b[39;49m\u001b[33;43m'\u001b[39;49m\u001b[43m,\u001b[49m\u001b[43m \u001b[49m\u001b[33;43m'\u001b[39;49m\u001b[33;43m천안\u001b[39;49m\u001b[33;43m'\u001b[39;49m\u001b[43m)\u001b[49m \u001b[38;5;66;03m#인자값과 매개변수의 갯수는 항상 같아야한다. \u001b[39;00m\n",
      "\u001b[31mTypeError\u001b[39m: g() takes 2 positional arguments but 3 were given"
     ]
    }
   ],
   "source": [
    "g('kim', '1111', '천안') #인자값과 매개변수의 갯수는 항상 같아야한다. "
   ]
  },
  {
   "cell_type": "code",
   "execution_count": 30,
   "id": "59c3e6c0-61d4-4037-9961-4497929b1111",
   "metadata": {},
   "outputs": [
    {
     "name": "stdout",
     "output_type": "stream",
     "text": [
      "lee 1234\n"
     ]
    }
   ],
   "source": [
    "g('lee', '1234')"
   ]
  },
  {
   "cell_type": "code",
   "execution_count": 39,
   "id": "7b4bab63-6e5a-415f-a671-62e9ddd2523e",
   "metadata": {},
   "outputs": [],
   "source": [
    "def h() : \n",
    "    return 1000 "
   ]
  },
  {
   "cell_type": "code",
   "execution_count": 40,
   "id": "871a61fa-ada5-40af-b5f3-211f0c88e029",
   "metadata": {},
   "outputs": [],
   "source": [
    "y = h()"
   ]
  },
  {
   "cell_type": "code",
   "execution_count": 41,
   "id": "d828bbdc-3e54-4123-9581-c3742a2df639",
   "metadata": {},
   "outputs": [
    {
     "name": "stdout",
     "output_type": "stream",
     "text": [
      "1000\n"
     ]
    }
   ],
   "source": [
    "print(y)"
   ]
  },
  {
   "cell_type": "code",
   "execution_count": 42,
   "id": "59aca171-f57d-431d-ad8d-38a5f84572e4",
   "metadata": {},
   "outputs": [],
   "source": [
    "def add(a, b) :\n",
    "    c = (a + b)\n",
    "    return c"
   ]
  },
  {
   "cell_type": "code",
   "execution_count": 44,
   "id": "f47ed6ac-3ba0-4825-90a7-09bcb6843a5d",
   "metadata": {},
   "outputs": [],
   "source": [
    "y = add(10, 20)"
   ]
  },
  {
   "cell_type": "code",
   "execution_count": 45,
   "id": "90b74dd0-4d80-4e6e-aba7-77f6222f4d01",
   "metadata": {},
   "outputs": [
    {
     "name": "stdout",
     "output_type": "stream",
     "text": [
      "30\n"
     ]
    }
   ],
   "source": [
    "print(y)"
   ]
  },
  {
   "cell_type": "code",
   "execution_count": 46,
   "id": "acaf3fa6-db9b-44e1-8f00-e23bf1d15a15",
   "metadata": {},
   "outputs": [
    {
     "data": {
      "text/plain": [
       "\u001b[31mSignature:\u001b[39m print(*args, sep=\u001b[33m' '\u001b[39m, end=\u001b[33m'\\n'\u001b[39m, file=\u001b[38;5;28;01mNone\u001b[39;00m, flush=\u001b[38;5;28;01mFalse\u001b[39;00m)\n",
       "\u001b[31mDocstring:\u001b[39m\n",
       "Prints the values to a stream, or to sys.stdout by default.\n",
       "\n",
       "sep\n",
       "  string inserted between values, default a space.\n",
       "end\n",
       "  string appended after the last value, default a newline.\n",
       "file\n",
       "  a file-like object (stream); defaults to the current sys.stdout.\n",
       "flush\n",
       "  whether to forcibly flush the stream.\n",
       "\u001b[31mType:\u001b[39m      builtin_function_or_method"
      ]
     },
     "metadata": {},
     "output_type": "display_data"
    }
   ],
   "source": [
    "print?"
   ]
  },
  {
   "cell_type": "code",
   "execution_count": 50,
   "id": "40ae3e64-ed50-48b7-b5dc-f29865393802",
   "metadata": {},
   "outputs": [],
   "source": [
    "def myprint(*args) :\n",
    "    print(args)\n",
    "    return"
   ]
  },
  {
   "cell_type": "code",
   "execution_count": 52,
   "id": "f2785e57-16ef-4ea0-8e04-a6049c2a02df",
   "metadata": {},
   "outputs": [
    {
     "name": "stdout",
     "output_type": "stream",
     "text": [
      "(1, 2, 3, 4, 5, 6, 7)\n"
     ]
    }
   ],
   "source": [
    "myprint(1, 2, 3, 4, 5, 6, 7)"
   ]
  },
  {
   "cell_type": "code",
   "execution_count": 55,
   "id": "b5cbc068-58ca-4aba-80ca-7ad18d64c9a8",
   "metadata": {},
   "outputs": [],
   "source": [
    "import math"
   ]
  },
  {
   "cell_type": "markdown",
   "id": "e6417794-e07c-40fd-abf0-b9fdb5a4b315",
   "metadata": {},
   "source": [
    "math.sqrt?"
   ]
  },
  {
   "cell_type": "code",
   "execution_count": 56,
   "id": "2b452b35-409f-4e19-ae6d-3eba5b25511e",
   "metadata": {},
   "outputs": [
    {
     "data": {
      "text/plain": [
       "\u001b[31mSignature:\u001b[39m math.sqrt(x, /)\n",
       "\u001b[31mDocstring:\u001b[39m Return the square root of x.\n",
       "\u001b[31mType:\u001b[39m      builtin_function_or_method"
      ]
     },
     "metadata": {},
     "output_type": "display_data"
    }
   ],
   "source": [
    "math.sqrt?"
   ]
  },
  {
   "cell_type": "code",
   "execution_count": 57,
   "id": "2b9f5f30-03da-448b-9ad9-c1561a4ffcc9",
   "metadata": {},
   "outputs": [],
   "source": [
    "y = math.sqrt(2)"
   ]
  },
  {
   "cell_type": "code",
   "execution_count": 58,
   "id": "5047ab50-1c01-4125-bea2-5c92bfb55ff3",
   "metadata": {},
   "outputs": [
    {
     "name": "stdout",
     "output_type": "stream",
     "text": [
      "1.4142135623730951\n"
     ]
    }
   ],
   "source": [
    "print(y)"
   ]
  },
  {
   "cell_type": "code",
   "execution_count": 62,
   "id": "1f50ab11-bfa7-46a6-8a8c-0275e9ec35ad",
   "metadata": {},
   "outputs": [
    {
     "name": "stdin",
     "output_type": "stream",
     "text": [
      "정수값을 하나 넣어주세요 : 123\n"
     ]
    }
   ],
   "source": [
    "a = input('정수값을 하나 넣어주세요 :') "
   ]
  },
  {
   "cell_type": "code",
   "execution_count": 63,
   "id": "17b7847c-34ed-469c-9326-1b706c7b9c4c",
   "metadata": {},
   "outputs": [
    {
     "name": "stdout",
     "output_type": "stream",
     "text": [
      "123\n"
     ]
    }
   ],
   "source": [
    "print(a)"
   ]
  },
  {
   "cell_type": "code",
   "execution_count": 65,
   "id": "945ea984-6a20-4bb5-9dc7-2a00b8d54f05",
   "metadata": {},
   "outputs": [],
   "source": [
    "y = type('123')"
   ]
  },
  {
   "cell_type": "code",
   "execution_count": 66,
   "id": "71524453-6bac-440b-b33a-7841854770a3",
   "metadata": {},
   "outputs": [
    {
     "name": "stdout",
     "output_type": "stream",
     "text": [
      "<class 'str'>\n"
     ]
    }
   ],
   "source": [
    "print(y)"
   ]
  },
  {
   "cell_type": "code",
   "execution_count": 69,
   "id": "ffb9a8a4-0694-4b25-9625-7c93f346f4d9",
   "metadata": {},
   "outputs": [],
   "source": [
    "def f(a) :\n",
    "    # a = [1, 2, 3, 4, 5] \n",
    "    print(a)\n",
    "    return"
   ]
  },
  {
   "cell_type": "code",
   "execution_count": 70,
   "id": "39136b84-7cd4-4db5-a817-6bd67987c5b8",
   "metadata": {},
   "outputs": [
    {
     "name": "stdout",
     "output_type": "stream",
     "text": [
      "[1, 2, 3, 4, 5]\n"
     ]
    }
   ],
   "source": [
    "f([1, 2, 3, 4, 5])"
   ]
  },
  {
   "cell_type": "code",
   "execution_count": 71,
   "id": "a91c1fa4-441a-4c7a-a198-68293cc30262",
   "metadata": {},
   "outputs": [],
   "source": [
    "def mymax(a) :  # 매개변수로 받은 a 리스트에서 최대값을 구하고 반환해주는 함수\n",
    "    m = a[0]\n",
    "    for k in range(1, len(a), 1) :\n",
    "        if a[k] > m : \n",
    "            m = a[k]\n",
    "    return m "
   ]
  },
  {
   "cell_type": "code",
   "execution_count": 73,
   "id": "40f348cd-90f2-471a-8452-c41b103980ba",
   "metadata": {},
   "outputs": [
    {
     "name": "stdout",
     "output_type": "stream",
     "text": [
      "6\n"
     ]
    }
   ],
   "source": [
    "x = [4, 5, 6, 1, 2, 3]\n",
    "y = mymax(x)\n",
    "print(y)"
   ]
  },
  {
   "cell_type": "code",
   "execution_count": 77,
   "id": "aecf7f3c-f066-4b98-9449-adf3ab15f4ab",
   "metadata": {},
   "outputs": [],
   "source": [
    "# 임의 리스트 a를 인자로 받아서 모든 항목의 합을 구해서 반환해주는 mysum함수를 정의하고 호출해보시오\n",
    "def mysum(a) : \n",
    "    s = 0\n",
    "    for k in range (0, len(a), 1) :\n",
    "        s = (s + a[k])\n",
    "    return s"
   ]
  },
  {
   "cell_type": "code",
   "execution_count": 79,
   "id": "99521d03-b022-44c9-af6a-c07af4d412a3",
   "metadata": {},
   "outputs": [
    {
     "name": "stdout",
     "output_type": "stream",
     "text": [
      "sum = 55\n"
     ]
    }
   ],
   "source": [
    "A = [1, 2, 3, 4, 5, 6, 7, 8, 9, 10]\n",
    "y = mysum(A)\n",
    "print('sum =', y)"
   ]
  },
  {
   "cell_type": "code",
   "execution_count": 154,
   "id": "40274eda-9092-45b5-8847-8c28eda5171b",
   "metadata": {},
   "outputs": [],
   "source": [
    "def mycount(a, b) : # 임의의 리스트 a에대해서 b값을 인자로 받아서 a중 포함된 b값 개수 반환하기 \n",
    "                    #a = [1, 1, 1, 1, 7, 7, 7, 7, 4, 4, 4]\n",
    "                    #b = 4\n",
    "    c = 0\n",
    "    for k in range(0, len(a), 1) :\n",
    "        m = a[k]\n",
    "        if m == b : \n",
    "            c = (c + 1)\n",
    "    return c"
   ]
  },
  {
   "cell_type": "code",
   "execution_count": 159,
   "id": "7deb6648-0025-498c-b282-9817597024d7",
   "metadata": {},
   "outputs": [],
   "source": [
    "def myview() :\n",
    "    x = [1, 1, 1, 1, 7, 7, 7, 7, 4, 4, 4]\n",
    "    f = [1, 4, 7]\n",
    "    \n",
    "    print('value', 'count')\n",
    "    print('----- -----')\n",
    "    for k in f :\n",
    "        z = mycount(x, k)\n",
    "        print(' ', k, '   ', z)\n",
    "    print('----- -----')"
   ]
  },
  {
   "cell_type": "code",
   "execution_count": 160,
   "id": "da883976-8c30-46ad-a7e0-8be4aed43262",
   "metadata": {},
   "outputs": [
    {
     "name": "stdout",
     "output_type": "stream",
     "text": [
      "value count\n",
      "----- -----\n",
      "  1     4\n",
      "  4     3\n",
      "  7     4\n",
      "----- -----\n"
     ]
    }
   ],
   "source": [
    "myview()"
   ]
  },
  {
   "cell_type": "code",
   "execution_count": 165,
   "id": "295b54a0-2f4c-4cf4-ba01-f4b876509115",
   "metadata": {},
   "outputs": [],
   "source": [
    "def mycount1(A, B) : #임의의 리스트 A에 대해 B값을 인자로 받아서 a중 포함된 b값의 개수 반환하기(복습)\n",
    "    c = 0\n",
    "    for k in range(0, len(A), 1) :\n",
    "        if A[k] ==  B :\n",
    "            c = (c + 1)\n",
    "    return c"
   ]
  },
  {
   "cell_type": "code",
   "execution_count": 188,
   "id": "f961e83c-c900-4aed-a33e-416468303bdc",
   "metadata": {},
   "outputs": [],
   "source": [
    "def viewer() : \n",
    "    x = [1, 3, 4, 2, 5, 1, 2, 5, 6, 2, 3, 3, 4, 1, 1]\n",
    "    f = [1, 2, 3, 4, 5, 6]\n",
    "\n",
    "    print('  값', '   개수')\n",
    "    print('------ ------')\n",
    "    for k in range(0, len(f), 1) :\n",
    "        z = mycount1(x, f[k])\n",
    "        print('  ', f[k],'    ', z)\n",
    "    print('------ ------')"
   ]
  },
  {
   "cell_type": "code",
   "execution_count": 189,
   "id": "dc0085e8-2608-4942-ac45-2057c2741011",
   "metadata": {},
   "outputs": [
    {
     "name": "stdout",
     "output_type": "stream",
     "text": [
      "  값    개수\n",
      "------ ------\n",
      "   1      4\n",
      "   2      3\n",
      "   3      3\n",
      "   4      2\n",
      "   5      2\n",
      "   6      1\n",
      "------ ------\n"
     ]
    }
   ],
   "source": [
    "viewer()"
   ]
  },
  {
   "cell_type": "code",
   "execution_count": 247,
   "id": "689ad80d-441b-4f60-a3ed-65978e194712",
   "metadata": {},
   "outputs": [],
   "source": [
    "def minfind(a) : \n",
    "                     # 다음의 리스트 데이터에서 최소값을 구해보자 (실습) 알고리즘 > 실행 > 함수화 (파라미터화)\n",
    "    m = a[0]\n",
    "    for k in range(0, len(a), 1) : \n",
    "        if m > a[k] :\n",
    "            m = a[k]\n",
    "    print('min =', m)"
   ]
  },
  {
   "cell_type": "code",
   "execution_count": 249,
   "id": "8fa824e0-b872-4b85-a626-37cb38788bd5",
   "metadata": {},
   "outputs": [
    {
     "name": "stdout",
     "output_type": "stream",
     "text": [
      "min = 1\n"
     ]
    }
   ],
   "source": [
    "x = [3, 4, 5, 6, 4, 1, 3, 2]\n",
    "minfind(x)"
   ]
  },
  {
   "cell_type": "code",
   "execution_count": 250,
   "id": "3ab936a1-cb8b-4aed-96ac-67de920b7aa0",
   "metadata": {},
   "outputs": [],
   "source": [
    "def maxidx(a) :\n",
    "                     # 다음의 리스트에서 최대값의 인덱스를 구해보자 (실습2)\n",
    "    m = a[0]\n",
    "    c = 0\n",
    "    for k in range(0, len(a), 1) :\n",
    "        if m < a[k] :\n",
    "            m = a[k]\n",
    "            c = k\n",
    "    print('idx =', c)"
   ]
  },
  {
   "cell_type": "code",
   "execution_count": 251,
   "id": "c2e534c1-9417-4232-80ff-e661d44955d4",
   "metadata": {},
   "outputs": [
    {
     "name": "stdout",
     "output_type": "stream",
     "text": [
      "idx = 3\n"
     ]
    }
   ],
   "source": [
    "x = [3, 4, 5, 6, 4, 1, 3, 2]\n",
    "maxidx(x)"
   ]
  },
  {
   "cell_type": "code",
   "execution_count": 258,
   "id": "381d2f66-c552-47e3-9b48-6394bcc30a0a",
   "metadata": {},
   "outputs": [],
   "source": [
    "def maxnegative(a) :\n",
    "                     # 다음의 데이터에서 음수값 중 가장 큰 값 구하기 (실습3)\n",
    "    m = a[0]\n",
    "    for k in range(0, len(a), 1) :\n",
    "        if a[k] < 0 :\n",
    "            if m < a[k] :\n",
    "                m = a[k]\n",
    "    print('negative max =', m)"
   ]
  },
  {
   "cell_type": "code",
   "execution_count": 261,
   "id": "21cf0036-079d-461e-88fc-5b5b82ce8a59",
   "metadata": {},
   "outputs": [
    {
     "name": "stdout",
     "output_type": "stream",
     "text": [
      "negative max = -1\n"
     ]
    }
   ],
   "source": [
    "x = [-3, 4, -5, 6, 4, -1, 3, -2]\n",
    "maxnegative(x)"
   ]
  },
  {
   "cell_type": "code",
   "execution_count": 327,
   "id": "fd8c2f69-391e-4e5d-95ab-6235a36b2c2c",
   "metadata": {},
   "outputs": [],
   "source": [
    "def maxnegative1(a) : # 다음의 데이터에서 음수값 중 가장 큰 값 구하기, 만약 양수라면 '음수가 없습니다' 출력 후 양수의 최대값 구하기 (실습3 응용)\n",
    "\n",
    "    find = False\n",
    "    for k in range(0, len(a), 1) : # m = -999 충분히 작은 값 (sufficiently small value)을 써도 되지만 그보다 더 작은 수가 있을 경우가 생길때를 위해\n",
    "        if a[k] < 0 :              # 처음만나는 음수로 지정하고 탈출(break)할 수 있다.\n",
    "            m = a[k]\n",
    "            find = True\n",
    "            break;\n",
    "    \n",
    "    if find == False : #만약 리스트에 음수가 없는경우 '음수가 없습니다'를 출력하고 양수 중 최대값 구하기\n",
    "        print('음수가 없습니다')\n",
    "        m = a[0]\n",
    "        for k in range(1, len(a), 1) :\n",
    "            if m < a[k] :\n",
    "                m = a[k]\n",
    "        print('positive max =', m)\n",
    "        return\n",
    "                \n",
    "    for k in range(0, len(a), 1) : #리스트에 음수가 있을 경우 음수의 최대값 구하기\n",
    "        if a[k] < 0 :\n",
    "            if m < a[k] :\n",
    "                m = a[k]\n",
    "    print('negative max =', m)\n",
    "    return"
   ]
  },
  {
   "cell_type": "code",
   "execution_count": 328,
   "id": "481b0cce-14d0-4f46-8448-0c366c8056ae",
   "metadata": {},
   "outputs": [
    {
     "name": "stdout",
     "output_type": "stream",
     "text": [
      "음수가 없습니다\n",
      "positive max = 6\n"
     ]
    }
   ],
   "source": [
    "x = [3, 4, 5, 6, 4, 1, 3, 2]\n",
    "maxnegative1(x)"
   ]
  },
  {
   "cell_type": "code",
   "execution_count": null,
   "id": "ad87d89b-ca1a-4ee4-9319-f3f2d3df044f",
   "metadata": {},
   "outputs": [],
   "source": []
  }
 ],
 "metadata": {
  "kernelspec": {
   "display_name": "Python 3 (ipykernel)",
   "language": "python",
   "name": "python3"
  },
  "language_info": {
   "codemirror_mode": {
    "name": "ipython",
    "version": 3
   },
   "file_extension": ".py",
   "mimetype": "text/x-python",
   "name": "python",
   "nbconvert_exporter": "python",
   "pygments_lexer": "ipython3",
   "version": "3.13.5"
  }
 },
 "nbformat": 4,
 "nbformat_minor": 5
}
